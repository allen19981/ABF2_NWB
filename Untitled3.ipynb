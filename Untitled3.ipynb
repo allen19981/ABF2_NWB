{
 "cells": [
  {
   "cell_type": "code",
   "execution_count": 1,
   "metadata": {},
   "outputs": [
    {
     "name": "stdout",
     "output_type": "stream",
     "text": [
      "Collecting dandi\n",
      "  Downloading dandi-0.6.4-py3-none-any.whl (123 kB)\n",
      "Collecting click-didyoumean\n",
      "  Downloading click-didyoumean-0.0.3.tar.gz (2.6 kB)\n",
      "Collecting girder-client\n",
      "  Downloading girder-client-3.1.3.tar.gz (20 kB)\n",
      "Requirement already satisfied: joblib in c:\\users\\allen\\anaconda3\\lib\\site-packages (from dandi) (0.16.0)\n",
      "Collecting keyrings.alt\n",
      "  Downloading keyrings.alt-4.0.0-py3-none-any.whl (31 kB)\n",
      "Collecting email-validator\n",
      "  Downloading email_validator-1.1.1-py2.py3-none-any.whl (17 kB)\n",
      "Collecting pyout!=0.6.0\n",
      "  Downloading pyout-0.6.1-py3-none-any.whl (49 kB)\n",
      "Collecting etelemetry>=0.2.0\n",
      "  Downloading etelemetry-0.2.2-py3-none-any.whl (6.2 kB)\n",
      "Requirement already satisfied: ruamel.yaml<1,>=0.15 in c:\\users\\allen\\anaconda3\\lib\\site-packages (from dandi) (0.16.12)\n",
      "Collecting semantic-version\n",
      "  Downloading semantic_version-2.8.5-py2.py3-none-any.whl (15 kB)\n",
      "Requirement already satisfied: requests~=2.20 in c:\\users\\allen\\anaconda3\\lib\\site-packages (from dandi) (2.24.0)\n",
      "Requirement already satisfied: python-dateutil in c:\\users\\allen\\anaconda3\\lib\\site-packages (from dandi) (2.8.1)\n",
      "Collecting humanize\n",
      "  Downloading humanize-3.1.0-py3-none-any.whl (69 kB)\n",
      "Requirement already satisfied: keyring in c:\\users\\allen\\anaconda3\\lib\\site-packages (from dandi) (21.2.1)\n",
      "Collecting pydantic\n",
      "  Downloading pydantic-1.6.1-cp38-cp38-win_amd64.whl (1.7 MB)\n",
      "Requirement already satisfied: pynwb!=1.1.0,>=1.0.3 in c:\\users\\allen\\anaconda3\\lib\\site-packages (from dandi) (1.3.3)\n",
      "Requirement already satisfied: tqdm in c:\\users\\allen\\anaconda3\\lib\\site-packages (from dandi) (4.47.0)\n",
      "Collecting appdirs\n",
      "  Downloading appdirs-1.4.4-py2.py3-none-any.whl (9.6 kB)\n",
      "Requirement already satisfied: click in c:\\users\\allen\\anaconda3\\lib\\site-packages (from dandi) (7.1.2)\n",
      "Collecting diskcache\n",
      "  Downloading diskcache-5.0.3-py3-none-any.whl (43 kB)\n",
      "Requirement already satisfied: requests_toolbelt in c:\\users\\allen\\anaconda3\\lib\\site-packages (from girder-client->dandi) (0.9.1)\n",
      "Collecting dnspython>=1.15.0\n",
      "  Downloading dnspython-2.0.0-py3-none-any.whl (208 kB)\n",
      "Requirement already satisfied: idna>=2.0.0 in c:\\users\\allen\\anaconda3\\lib\\site-packages (from email-validator->dandi) (2.10)\n",
      "Requirement already satisfied: jsonschema>=3.0.0 in c:\\users\\allen\\anaconda3\\lib\\site-packages (from pyout!=0.6.0->dandi) (3.2.0)\n",
      "Collecting ci-info>=0.2\n",
      "  Downloading ci_info-0.2.0-py3-none-any.whl (6.9 kB)\n",
      "Requirement already satisfied: ruamel.yaml.clib>=0.1.2; platform_python_implementation == \"CPython\" and python_version < \"3.9\" in c:\\users\\allen\\anaconda3\\lib\\site-packages (from ruamel.yaml<1,>=0.15->dandi) (0.2.2)\n",
      "Requirement already satisfied: certifi>=2017.4.17 in c:\\users\\allen\\anaconda3\\lib\\site-packages (from requests~=2.20->dandi) (2020.6.20)\n",
      "Requirement already satisfied: urllib3!=1.25.0,!=1.25.1,<1.26,>=1.21.1 in c:\\users\\allen\\anaconda3\\lib\\site-packages (from requests~=2.20->dandi) (1.25.9)\n",
      "Requirement already satisfied: chardet<4,>=3.0.2 in c:\\users\\allen\\anaconda3\\lib\\site-packages (from requests~=2.20->dandi) (3.0.4)\n",
      "Requirement already satisfied: six>=1.5 in c:\\users\\allen\\anaconda3\\lib\\site-packages (from python-dateutil->dandi) (1.15.0)\n",
      "Requirement already satisfied: setuptools in c:\\users\\allen\\anaconda3\\lib\\site-packages (from humanize->dandi) (50.3.0)\n",
      "Requirement already satisfied: pywin32-ctypes!=0.1.0,!=0.1.1; sys_platform == \"win32\" in c:\\users\\allen\\anaconda3\\lib\\site-packages (from keyring->dandi) (0.2.0)\n",
      "Requirement already satisfied: hdmf<2,>=1.6.4 in c:\\users\\allen\\anaconda3\\lib\\site-packages (from pynwb!=1.1.0,>=1.0.3->dandi) (1.6.4)\n",
      "Requirement already satisfied: h5py>=2.9 in c:\\users\\allen\\anaconda3\\lib\\site-packages (from pynwb!=1.1.0,>=1.0.3->dandi) (2.10.0)\n",
      "Requirement already satisfied: pandas>=0.23 in c:\\users\\allen\\anaconda3\\lib\\site-packages (from pynwb!=1.1.0,>=1.0.3->dandi) (1.0.5)\n",
      "Requirement already satisfied: numpy>=1.16 in c:\\users\\allen\\anaconda3\\lib\\site-packages (from pynwb!=1.1.0,>=1.0.3->dandi) (1.18.5)\n",
      "Requirement already satisfied: attrs>=17.4.0 in c:\\users\\allen\\anaconda3\\lib\\site-packages (from jsonschema>=3.0.0->pyout!=0.6.0->dandi) (19.3.0)\n",
      "Requirement already satisfied: pyrsistent>=0.14.0 in c:\\users\\allen\\anaconda3\\lib\\site-packages (from jsonschema>=3.0.0->pyout!=0.6.0->dandi) (0.16.0)\n",
      "Requirement already satisfied: scipy>=1.1 in c:\\users\\allen\\anaconda3\\lib\\site-packages (from hdmf<2,>=1.6.4->pynwb!=1.1.0,>=1.0.3->dandi) (1.5.0)\n",
      "Requirement already satisfied: pytz>=2017.2 in c:\\users\\allen\\anaconda3\\lib\\site-packages (from pandas>=0.23->pynwb!=1.1.0,>=1.0.3->dandi) (2020.1)\n",
      "Building wheels for collected packages: click-didyoumean, girder-client\n",
      "  Building wheel for click-didyoumean (setup.py): started\n",
      "  Building wheel for click-didyoumean (setup.py): finished with status 'done'\n",
      "  Created wheel for click-didyoumean: filename=click_didyoumean-0.0.3-py3-none-any.whl size=2152 sha256=6a2fad75fa47f634a9ff2ef60c453f280adae3fcc7910c3a446a3d1de6d907ca\n",
      "  Stored in directory: c:\\users\\allen\\appdata\\local\\pip\\cache\\wheels\\c2\\97\\1e\\c7dda0b8e9616dcd8df2a2882e556ef62879967ac31e0e3d04\n",
      "  Building wheel for girder-client (setup.py): started\n",
      "  Building wheel for girder-client (setup.py): finished with status 'done'\n",
      "  Created wheel for girder-client: filename=girder_client-3.1.3-py3-none-any.whl size=21183 sha256=73cace444b7f32fff47eb277373f72c5c2327e2283d823160758bfc5d887b860\n",
      "  Stored in directory: c:\\users\\allen\\appdata\\local\\pip\\cache\\wheels\\cf\\4c\\89\\cfc9c73a6eb47fde17ca7360df5ebc356b8ec08564d0bd511d\n",
      "Successfully built click-didyoumean girder-client\n",
      "Installing collected packages: click-didyoumean, diskcache, girder-client, keyrings.alt, dnspython, email-validator, pyout, ci-info, etelemetry, semantic-version, humanize, pydantic, appdirs, dandi\n",
      "Successfully installed appdirs-1.4.4 ci-info-0.2.0 click-didyoumean-0.0.3 dandi-0.6.4 diskcache-5.0.3 dnspython-2.0.0 email-validator-1.1.1 etelemetry-0.2.2 girder-client-3.1.3 humanize-3.1.0 keyrings.alt-4.0.0 pydantic-1.6.1 pyout-0.6.1 semantic-version-2.8.5\n"
     ]
    }
   ],
   "source": [
    "!pip install dandi"
   ]
  },
  {
   "cell_type": "code",
   "execution_count": 6,
   "metadata": {},
   "outputs": [],
   "source": [
    "import urllib.request\n",
    "\n",
    "urllib.request.urlretrieve(\"https://girder.dandiarchive.org/dandiset/000008/draft\", \"test\")\n",
    "print('data downloaded!')"
   ]
  },
  {
   "cell_type": "code",
   "execution_count": 12,
   "metadata": {},
   "outputs": [
    {
     "ename": "SyntaxError",
     "evalue": "invalid syntax (<ipython-input-12-2b45b71640fb>, line 1)",
     "output_type": "error",
     "traceback": [
      "\u001b[1;36m  File \u001b[1;32m\"<ipython-input-12-2b45b71640fb>\"\u001b[1;36m, line \u001b[1;32m1\u001b[0m\n\u001b[1;33m    dandi.download dandiarchive.org/dandiset/000008/draft\u001b[0m\n\u001b[1;37m                   ^\u001b[0m\n\u001b[1;31mSyntaxError\u001b[0m\u001b[1;31m:\u001b[0m invalid syntax\n"
     ]
    }
   ],
   "source": [
    "dandi.download https://dandiarchive.org/dandiset/000008/draft "
   ]
  }
 ],
 "metadata": {
  "kernelspec": {
   "display_name": "Python 3",
   "language": "python",
   "name": "python3"
  },
  "language_info": {
   "codemirror_mode": {
    "name": "ipython",
    "version": 3
   },
   "file_extension": ".py",
   "mimetype": "text/x-python",
   "name": "python",
   "nbconvert_exporter": "python",
   "pygments_lexer": "ipython3",
   "version": "3.8.3"
  }
 },
 "nbformat": 4,
 "nbformat_minor": 4
}
