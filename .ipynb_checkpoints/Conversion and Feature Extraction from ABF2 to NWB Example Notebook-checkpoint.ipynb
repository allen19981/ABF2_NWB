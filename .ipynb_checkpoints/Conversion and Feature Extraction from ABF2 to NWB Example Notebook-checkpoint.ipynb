{
 "cells": [
  {
   "cell_type": "markdown",
   "metadata": {},
   "source": [
    "## First locate the .abf file from your computer that needs to be converted, and convert it into an output file. New ipfx package would need to be installed first to accommodate for including channel list name as arguments."
   ]
  },
  {
   "cell_type": "code",
   "execution_count": 11,
   "metadata": {},
   "outputs": [
    {
     "name": "stderr",
     "output_type": "stream",
     "text": [
      "WARNING:pyabf.abf:fileGUID isn't truly unique (fileUUID is)\n"
     ]
    },
    {
     "data": {
      "text/plain": [
       "<ipfx_new.ipfx_new.x_to_nwb.ABFConverter.ABFConverter at 0x24312a1cd00>"
      ]
     },
     "execution_count": 11,
     "metadata": {},
     "output_type": "execute_result"
    }
   ],
   "source": [
    "from ipfx_new.ipfx_new.x_to_nwb import ABFConverter\n",
    "\n",
    "abf_file_location = 'examples/' #locate the directory where the abf file is located\n",
    "output_location = 'output/' #locate the directory where the converted nwb file should be stored\n",
    "abf_file_name = '2020_09_04_0012.abf' #name of the abf file\n",
    "channel_list_name = 'Vm_sec' #name of the channel of interest\n",
    "\n",
    "ABFConverter.ABFConverter(abf_file_location + abf_file_name, output_location + abf_file_name[:-4] + '.nwb', includeChannelList=[channel_list_name])"
   ]
  },
  {
   "cell_type": "markdown",
   "metadata": {},
   "source": [
    "## Loading converted nwb file into ipfx for feature extraction. Input the filename of the newly converted nwb file."
   ]
  },
  {
   "cell_type": "code",
   "execution_count": 7,
   "metadata": {},
   "outputs": [
    {
     "name": "stdout",
     "output_type": "stream",
     "text": [
      "loading dataset into data structure...\n"
     ]
    },
    {
     "name": "stderr",
     "output_type": "stream",
     "text": [
      "WARNING:root:sweep 0: ['experiment epoch is missing', 'stim epoch is missing']\n",
      "WARNING:root:sweep 1: ['experiment epoch is missing', 'stim epoch is missing']\n",
      "WARNING:root:sweep 2: ['experiment epoch is missing', 'stim epoch is missing']\n",
      "WARNING:root:sweep 3: ['experiment epoch is missing', 'stim epoch is missing']\n",
      "WARNING:root:sweep 4: ['experiment epoch is missing', 'stim epoch is missing']\n",
      "WARNING:root:sweep 5: ['experiment epoch is missing', 'stim epoch is missing']\n",
      "WARNING:root:sweep 6: ['experiment epoch is missing', 'stim epoch is missing']\n",
      "WARNING:root:sweep 7: ['experiment epoch is missing', 'stim epoch is missing']\n",
      "WARNING:root:sweep 8: ['test epoch is missing', 'experiment epoch is missing', 'stim epoch is missing']\n",
      "WARNING:root:sweep 9: ['experiment epoch is missing', 'stim epoch is missing']\n",
      "WARNING:root:sweep 10: ['experiment epoch is missing', 'stim epoch is missing']\n",
      "WARNING:root:sweep 11: ['experiment epoch is missing', 'stim epoch is missing']\n",
      "WARNING:root:sweep 12: ['experiment epoch is missing', 'stim epoch is missing']\n",
      "WARNING:root:sweep 13: ['experiment epoch is missing', 'stim epoch is missing']\n"
     ]
    }
   ],
   "source": [
    "# Load IPFX libraries\n",
    "from ipfx.dataset.create import create_ephys_data_set\n",
    "from ipfx.data_set_features import extract_data_set_features\n",
    "from ipfx.utilities import drop_failed_sweeps\n",
    "from ipfx.qc_feature_extractor import sweep_qc_features\n",
    "\n",
    "# Load pandas library too\n",
    "import pandas as pd\n",
    "from ipfx.dataset.create import create_ephys_data_set\n",
    "from ipfx.utilities import drop_failed_sweeps\n",
    "\n",
    "file_name = \"output/2020_09_04_0012.nwb\" #input the location of the output nwb file of interest\n",
    "\n",
    "# Create Ephys Data Set\n",
    "\n",
    "print('loading dataset into data structure...')\n",
    "#nwb_file_name = '/Users/stripathy/Downloads/sub-601462951_ses-601810292_icephys.nwb'\n",
    "data_set = create_ephys_data_set(nwb_file=file_name, ontology=\"ipfx_new/ipfx_new/defaults/stimulus_ontology.json\") ##loads nwb file into ipfx data structure\n",
    "\n",
    "# sweep = data_set.sweep(0)\n",
    "# sweep_features = sweep_qc_features(data_set)\n",
    "# Drop failed sweeps: sweeps with incomplete recording or failing QC criteria\n",
    "drop_failed_sweeps(data_set)\n",
    "# ipfx.data_set_features.extract_data_set_features(data_set, subthresh_min_amp=None)[source]\n"
   ]
  },
  {
   "cell_type": "markdown",
   "metadata": {},
   "source": [
    "## Extracting featuring using ipfx toolset."
   ]
  },
  {
   "cell_type": "code",
   "execution_count": 18,
   "metadata": {},
   "outputs": [
    {
     "name": "stderr",
     "output_type": "stream",
     "text": [
      "INFO:root:Need to recalculate threshold-peak pair that exceeds maximum allowed interval (0.005000 s)\n",
      "INFO:root:Could not redetermine threshold-peak pair - dropping that pair\n",
      "INFO:root:Need to recalculate threshold-peak pair that exceeds maximum allowed interval (0.005000 s)\n",
      "INFO:root:Need to recalculate threshold-peak pair that exceeds maximum allowed interval (0.005000 s)\n",
      "INFO:root:Could not redetermine threshold-peak pair - dropping that pair\n",
      "INFO:root:Could not redetermine threshold-peak pair - dropping that pair\n"
     ]
    },
    {
     "name": "stdout",
     "output_type": "stream",
     "text": [
      "tau: 0.007816887332009238\n",
      "v_baseline: -71.47103227887835\n",
      "input_resistance: 290.6295776367182\n",
      "vm_for_sag: -100.79957\n",
      "fi_fit_slope: -0.13333777589135676\n",
      "sag: 0.17858844995498657\n",
      "rheobase_i: 50.0\n"
     ]
    }
   ],
   "source": [
    "from ipfx.feature_extractor import SpikeFeatureExtractor, SpikeTrainFeatureExtractor\n",
    "\n",
    "import ipfx.stimulus_protocol_analysis as spa\n",
    "from ipfx.epochs import get_stim_epoch\n",
    "import matplotlib.pyplot as plt\n",
    "\n",
    "\n",
    "# get sweep table of Long Square sweeps\n",
    "long_square_table = data_set.filtered_sweep_table(\n",
    "    stimuli=data_set.ontology.long_square_names\n",
    ")\n",
    "long_square_sweeps = data_set.sweep_set(long_square_table.sweep_number)\n",
    "\n",
    "long_square_sweeps = data_set.sweep_set()\n",
    "\n",
    "# Select epoch corresponding to the actual recording from the sweeps\n",
    "# and align sweeps so that the experiment would start at the same time\n",
    "long_square_sweeps.select_epoch(\"recording\")\n",
    "# long_square_sweeps.align_to_start_of_epoch(\"experiment\")\n",
    "\n",
    "# find the start and end time of the stimulus\n",
    "# (treating the first sweep as representative)\n",
    "stim_start_index, stim_end_index = get_stim_epoch(long_square_sweeps.i[0], test_pulse=False)\n",
    "stim_start_time = long_square_sweeps.t[0][stim_start_index]\n",
    "stim_end_time = long_square_sweeps.t[0][stim_end_index]\n",
    "\n",
    "# stim_start_time = 0.5\n",
    "# stim_end_time = 1.8\n",
    "\n",
    "# build the extractors\n",
    "spfx = SpikeFeatureExtractor(start=stim_start_time, end=stim_end_time, filter = 1)\n",
    "sptfx = SpikeTrainFeatureExtractor(start=stim_start_time, end=stim_end_time)\n",
    "\n",
    "# run the analysis and print out a few of the features\n",
    "long_square_analysis = spa.LongSquareAnalysis(spfx, sptfx, subthresh_min_amp=-100.0)\n",
    "data = long_square_analysis.analyze(long_square_sweeps)\n",
    "\n",
    "fields_to_print = [\n",
    "    'tau',\n",
    "    'v_baseline',\n",
    "    'input_resistance',\n",
    "    'vm_for_sag',\n",
    "    'fi_fit_slope',\n",
    "    'sag',\n",
    "    'rheobase_i'\n",
    "]\n",
    "\n",
    "for field in fields_to_print:\n",
    "    print(\"%s: %s\" % (field, str(data[field])))"
   ]
  },
  {
   "cell_type": "markdown",
   "metadata": {},
   "source": [
    "## Plotting the sweeps using ipfx toolset."
   ]
  },
  {
   "cell_type": "code",
   "execution_count": 16,
   "metadata": {},
   "outputs": [
    {
     "data": {
      "image/png": "[encoded data removed]",
      "text/plain": [
       "<Figure size 432x288 with 2 Axes>"
      ]
     },
     "metadata": {
      "needs_background": "light"
     },
     "output_type": "display_data"
    }
   ],
   "source": [
    "import numpy as np\n",
    "import pandas as pd\n",
    "import matplotlib.pyplot as plt\n",
    "import seaborn as sns\n",
    "\n",
    "# these are basic IPFX objects for working with sweeps and sets of sweeps\n",
    "from ipfx.sweep import Sweep, SweepSet \n",
    "\n",
    "sweep_plot_index = 11 # which sweep number do you want to plot?\n",
    "\n",
    "curr_sweep = data_set.sweep_set(sweep_plot_index).sweeps[0]\n",
    "t = curr_sweep.t\n",
    "v = curr_sweep.v\n",
    "i = curr_sweep.i\n",
    "\n",
    "fig, axes = plt.subplots(2, 1, sharex=True)\n",
    "\n",
    "axes[0].plot(t, v)\n",
    "axes[0].set_xlim(.5, 1)\n",
    "axes[0].set_ylabel(\"Membrane voltage (mV)\")\n",
    "\n",
    "axes[1].plot(t, i, c=\"orange\")\n",
    "axes[1].set_ylabel(\"Injected current (pA)\")\n",
    "\n",
    "sns.despine()"
   ]
  },
  {
   "cell_type": "markdown",
   "metadata": {},
   "source": [
    "## Plotting the sweeps using pyabf toolset."
   ]
  },
  {
   "cell_type": "code",
   "execution_count": 20,
   "metadata": {},
   "outputs": [
    {
     "data": {
      "image/png": "[encoded data removed]",
      "text/plain": [
       "<Figure size 576x360 with 2 Axes>"
      ]
     },
     "metadata": {
      "needs_background": "light"
     },
     "output_type": "display_data"
    }
   ],
   "source": [
    "### Import statements\n",
    "import pyabf\n",
    "import matplotlib.pyplot as plt\n",
    "\n",
    "import warnings\n",
    "warnings.filterwarnings('ignore')\n",
    "\n",
    "# refers to example_datasets folder in github repo\n",
    "file_rel_path = 'examples/'\n",
    "\n",
    "curr_file = '2020_09_04_0012.abf'\n",
    "abf_file_path = file_rel_path + curr_file\n",
    "\n",
    "abf = pyabf.ABF(abf_file_path) # this is the basic function for accessing abf files\n",
    "\n",
    "### Configuration variables\n",
    "stim_channel_num = 0 # on which channel number is the stimulus?\n",
    "response_chan_num = 0 # on which channel number is the response?\n",
    "\n",
    "stim_gain = 1 # integer gain on stimulus\n",
    "response_gain = 1 # integer gain on response\n",
    "\n",
    "stim_end = 1 # time point where stimulus ends\n",
    "\n",
    "sweep_plot_list = [0] # sweeps we want to plot\n",
    "fig = plt.figure(figsize=(8, 5))\n",
    "\n",
    "### Figure plotting\n",
    "for i in sweep_plot_list:\n",
    "    sweep_num = i\n",
    "    \n",
    "    # this setSweep command sets the currently active sweep in the file\n",
    "    abf.setSweep(sweep_num, channel=response_chan_num)\n",
    "    # plot the ADC (voltage recording)\n",
    "    ax1 = fig.add_subplot(211)\n",
    "    ax1.plot(abf.sweepX, abf.sweepY*response_gain, alpha = .5)\n",
    "\n",
    "    # plot the DAC (clamp current)\n",
    "    abf.setSweep(sweep_num, channel=stim_channel_num)\n",
    "    ax2 = fig.add_subplot(212, sharex=ax1)  \n",
    "    #abf.setSweep(sweep_num, channel=1)\n",
    "    ax2.plot(abf.sweepX, abf.sweepC * stim_gain, alpha = .5)\n",
    "\n",
    "# decorate the plots\n",
    "ax1.set_ylabel(abf.sweepLabelY)\n",
    "ax2.set_xlabel(abf.sweepLabelX)\n",
    "ax2.set_ylabel(abf.sweepLabelC)\n",
    "ax1.axes.set_xlim(0, stim_end)  # <-- adjust axis like this\n",
    "plt.show()"
   ]
  }
 ],
 "metadata": {
  "kernelspec": {
   "display_name": "Python 3",
   "language": "python",
   "name": "python3"
  },
  "language_info": {
   "codemirror_mode": {
    "name": "ipython",
    "version": 3
   },
   "file_extension": ".py",
   "mimetype": "text/x-python",
   "name": "python",
   "nbconvert_exporter": "python",
   "pygments_lexer": "ipython3",
   "version": "3.8.3"
  }
 },
 "nbformat": 4,
 "nbformat_minor": 2
}
