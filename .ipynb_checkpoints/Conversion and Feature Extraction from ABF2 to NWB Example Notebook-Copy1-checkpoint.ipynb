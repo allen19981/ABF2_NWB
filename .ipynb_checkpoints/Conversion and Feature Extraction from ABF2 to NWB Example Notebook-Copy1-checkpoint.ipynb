{
 "cells": [
  {
   "cell_type": "markdown",
   "metadata": {},
   "source": [
    "## First locate the .abf file from your computer that needs to be converted, and convert it into an output file. New ipfx package would need to be installed first to accommodate for including channel list name as arguments."
   ]
  },
  {
   "cell_type": "code",
   "execution_count": 1,
   "metadata": {},
   "outputs": [
    {
     "name": "stderr",
     "output_type": "stream",
     "text": [
      "C:\\Users\\allen\\Documents\\GitHub\\ABF2_NWB\\ipfx_new_copy\\ipfx_new\\x_to_nwb\\ABFConverter.py:154: UserWarning: Could not find the JSON file examples/2020_01_27_0002.json with settings.\n",
      "  warnings.warn(f\"Could not find the JSON file {settings} with settings.\")\n",
      "WARNING:pyabf.abf:fileGUID isn't truly unique (fileUUID is)\n",
      "C:\\Users\\allen\\Documents\\GitHub\\ABF2_NWB\\ipfx_new_copy\\ipfx_new\\x_to_nwb\\ABFConverter.py:467: UserWarning: Could not find the scale factor for the stimset I-V curve ,-400 pA, using 1.0 as fallback.\n",
      "  warnings.warn(f\"Could not find the scale factor for the stimset {stimset}, using {DEFAULT_SCALE_FACTOR} as fallback.\")\n",
      "C:\\Users\\allen\\Documents\\GitHub\\ABF2_NWB\\ipfx_new_copy\\ipfx_new\\x_to_nwb\\ABFConverter.py:494: UserWarning: Could not find settings for amplifier unknown of channel Vm_sec.\n",
      "  warnings.warn(f\"Could not find settings for amplifier {amplifier} of channel {adcName}.\")\n"
     ]
    },
    {
     "data": {
      "text/plain": [
       "<ipfx_new_copy.ipfx_new.x_to_nwb.ABFConverter.ABFConverter at 0x1cd9a6e35b0>"
      ]
     },
     "execution_count": 1,
     "metadata": {},
     "output_type": "execute_result"
    }
   ],
   "source": [
    "from ipfx_new_copy.ipfx_new.x_to_nwb import ABFConverter\n",
    "\n",
    "abf_file_location = 'examples/' #locate the directory where the abf file is located\n",
    "output_location = 'output/' #locate the directory where the converted nwb file should be stored\n",
    "abf_file_name = '2020_01_27_0002.abf' #name of the abf file\n",
    "channel_list_name = 'Vm_sec' #name of the channel of interest\n",
    "\n",
    "ABFConverter.ABFConverter(abf_file_location + abf_file_name, output_location + abf_file_name[:-4] + '.nwb', includeChannelList=[channel_list_name])"
   ]
  },
  {
   "cell_type": "code",
   "execution_count": 2,
   "metadata": {},
   "outputs": [
    {
     "name": "stderr",
     "output_type": "stream",
     "text": [
      "C:\\Users\\allen\\Documents\\GitHub\\ABF2_NWB\\ipfx_old\\ipfx\\x_to_nwb\\ABFConverter.py:135: UserWarning: Could not find the JSON file examples/2020_01_27_0002.json with settings.\n",
      "  warnings.warn(f\"Could not find the JSON file {settings} with settings.\")\n",
      "WARNING:pyabf.abf:fileGUID isn't truly unique (fileUUID is)\n",
      "C:\\Users\\allen\\anaconda3\\lib\\site-packages\\pynwb\\file.py:752: UserWarning: Date is missing timezone information. Updating to local timezone.\n",
      "  warn(\"Date is missing timezone information. Updating to local timezone.\")\n",
      "C:\\Users\\allen\\Documents\\GitHub\\ABF2_NWB\\ipfx_old\\ipfx\\x_to_nwb\\ABFConverter.py:444: UserWarning: Could not find the scale factor for the stimset I-V curve ,-400 pA, using 1.0 as fallback.\n",
      "  warnings.warn(f\"Could not find the scale factor for the stimset {stimset}, using 1.0 as fallback.\")\n",
      "C:\\Users\\allen\\anaconda3\\lib\\site-packages\\pynwb\\icephys.py:309: UserWarning: Unit 'V' for CurrentClampStimulusSeries 'index_00' is ignored and will be set to 'amperes' as per NWB 2.1.0.\n",
      "  warnings.warn(\n",
      "C:\\Users\\allen\\anaconda3\\lib\\site-packages\\pynwb\\icephys.py:309: UserWarning: Unit 'A' for VoltageClampStimulusSeries 'index_01' is ignored and will be set to 'volts' as per NWB 2.1.0.\n",
      "  warnings.warn(\n",
      "C:\\Users\\allen\\anaconda3\\lib\\site-packages\\pynwb\\icephys.py:309: UserWarning: Unit 'V' for CurrentClampStimulusSeries 'index_02' is ignored and will be set to 'amperes' as per NWB 2.1.0.\n",
      "  warnings.warn(\n",
      "C:\\Users\\allen\\anaconda3\\lib\\site-packages\\pynwb\\icephys.py:309: UserWarning: Unit 'A' for VoltageClampStimulusSeries 'index_03' is ignored and will be set to 'volts' as per NWB 2.1.0.\n",
      "  warnings.warn(\n",
      "C:\\Users\\allen\\anaconda3\\lib\\site-packages\\pynwb\\icephys.py:309: UserWarning: Unit 'V' for CurrentClampStimulusSeries 'index_04' is ignored and will be set to 'amperes' as per NWB 2.1.0.\n",
      "  warnings.warn(\n",
      "C:\\Users\\allen\\anaconda3\\lib\\site-packages\\pynwb\\icephys.py:309: UserWarning: Unit 'A' for VoltageClampStimulusSeries 'index_05' is ignored and will be set to 'volts' as per NWB 2.1.0.\n",
      "  warnings.warn(\n",
      "C:\\Users\\allen\\anaconda3\\lib\\site-packages\\pynwb\\icephys.py:309: UserWarning: Unit 'V' for CurrentClampStimulusSeries 'index_06' is ignored and will be set to 'amperes' as per NWB 2.1.0.\n",
      "  warnings.warn(\n",
      "C:\\Users\\allen\\anaconda3\\lib\\site-packages\\pynwb\\icephys.py:309: UserWarning: Unit 'A' for VoltageClampStimulusSeries 'index_07' is ignored and will be set to 'volts' as per NWB 2.1.0.\n",
      "  warnings.warn(\n",
      "C:\\Users\\allen\\anaconda3\\lib\\site-packages\\pynwb\\icephys.py:309: UserWarning: Unit 'V' for CurrentClampStimulusSeries 'index_08' is ignored and will be set to 'amperes' as per NWB 2.1.0.\n",
      "  warnings.warn(\n",
      "C:\\Users\\allen\\anaconda3\\lib\\site-packages\\pynwb\\icephys.py:309: UserWarning: Unit 'A' for VoltageClampStimulusSeries 'index_09' is ignored and will be set to 'volts' as per NWB 2.1.0.\n",
      "  warnings.warn(\n",
      "C:\\Users\\allen\\anaconda3\\lib\\site-packages\\pynwb\\icephys.py:309: UserWarning: Unit 'V' for CurrentClampStimulusSeries 'index_10' is ignored and will be set to 'amperes' as per NWB 2.1.0.\n",
      "  warnings.warn(\n",
      "C:\\Users\\allen\\anaconda3\\lib\\site-packages\\pynwb\\icephys.py:309: UserWarning: Unit 'A' for VoltageClampStimulusSeries 'index_11' is ignored and will be set to 'volts' as per NWB 2.1.0.\n",
      "  warnings.warn(\n",
      "C:\\Users\\allen\\anaconda3\\lib\\site-packages\\pynwb\\icephys.py:309: UserWarning: Unit 'V' for CurrentClampStimulusSeries 'index_12' is ignored and will be set to 'amperes' as per NWB 2.1.0.\n",
      "  warnings.warn(\n",
      "C:\\Users\\allen\\anaconda3\\lib\\site-packages\\pynwb\\icephys.py:309: UserWarning: Unit 'A' for VoltageClampStimulusSeries 'index_13' is ignored and will be set to 'volts' as per NWB 2.1.0.\n",
      "  warnings.warn(\n",
      "C:\\Users\\allen\\anaconda3\\lib\\site-packages\\pynwb\\icephys.py:309: UserWarning: Unit 'V' for CurrentClampStimulusSeries 'index_14' is ignored and will be set to 'amperes' as per NWB 2.1.0.\n",
      "  warnings.warn(\n",
      "C:\\Users\\allen\\anaconda3\\lib\\site-packages\\pynwb\\icephys.py:309: UserWarning: Unit 'A' for VoltageClampStimulusSeries 'index_15' is ignored and will be set to 'volts' as per NWB 2.1.0.\n",
      "  warnings.warn(\n",
      "C:\\Users\\allen\\anaconda3\\lib\\site-packages\\pynwb\\icephys.py:309: UserWarning: Unit 'V' for CurrentClampStimulusSeries 'index_16' is ignored and will be set to 'amperes' as per NWB 2.1.0.\n",
      "  warnings.warn(\n",
      "C:\\Users\\allen\\anaconda3\\lib\\site-packages\\pynwb\\icephys.py:309: UserWarning: Unit 'A' for VoltageClampStimulusSeries 'index_17' is ignored and will be set to 'volts' as per NWB 2.1.0.\n",
      "  warnings.warn(\n",
      "C:\\Users\\allen\\anaconda3\\lib\\site-packages\\pynwb\\icephys.py:309: UserWarning: Unit 'V' for CurrentClampStimulusSeries 'index_18' is ignored and will be set to 'amperes' as per NWB 2.1.0.\n",
      "  warnings.warn(\n",
      "C:\\Users\\allen\\anaconda3\\lib\\site-packages\\pynwb\\icephys.py:309: UserWarning: Unit 'A' for VoltageClampStimulusSeries 'index_19' is ignored and will be set to 'volts' as per NWB 2.1.0.\n",
      "  warnings.warn(\n",
      "C:\\Users\\allen\\anaconda3\\lib\\site-packages\\pynwb\\icephys.py:309: UserWarning: Unit 'V' for CurrentClampStimulusSeries 'index_20' is ignored and will be set to 'amperes' as per NWB 2.1.0.\n",
      "  warnings.warn(\n",
      "C:\\Users\\allen\\anaconda3\\lib\\site-packages\\pynwb\\icephys.py:309: UserWarning: Unit 'A' for VoltageClampStimulusSeries 'index_21' is ignored and will be set to 'volts' as per NWB 2.1.0.\n",
      "  warnings.warn(\n",
      "C:\\Users\\allen\\anaconda3\\lib\\site-packages\\pynwb\\icephys.py:309: UserWarning: Unit 'V' for CurrentClampStimulusSeries 'index_22' is ignored and will be set to 'amperes' as per NWB 2.1.0.\n",
      "  warnings.warn(\n",
      "C:\\Users\\allen\\anaconda3\\lib\\site-packages\\pynwb\\icephys.py:309: UserWarning: Unit 'A' for VoltageClampStimulusSeries 'index_23' is ignored and will be set to 'volts' as per NWB 2.1.0.\n",
      "  warnings.warn(\n",
      "C:\\Users\\allen\\anaconda3\\lib\\site-packages\\pynwb\\icephys.py:309: UserWarning: Unit 'V' for CurrentClampStimulusSeries 'index_24' is ignored and will be set to 'amperes' as per NWB 2.1.0.\n",
      "  warnings.warn(\n",
      "C:\\Users\\allen\\anaconda3\\lib\\site-packages\\pynwb\\icephys.py:309: UserWarning: Unit 'A' for VoltageClampStimulusSeries 'index_25' is ignored and will be set to 'volts' as per NWB 2.1.0.\n",
      "  warnings.warn(\n",
      "C:\\Users\\allen\\anaconda3\\lib\\site-packages\\pynwb\\icephys.py:309: UserWarning: Unit 'V' for CurrentClampStimulusSeries 'index_26' is ignored and will be set to 'amperes' as per NWB 2.1.0.\n",
      "  warnings.warn(\n",
      "C:\\Users\\allen\\anaconda3\\lib\\site-packages\\pynwb\\icephys.py:309: UserWarning: Unit 'A' for VoltageClampStimulusSeries 'index_27' is ignored and will be set to 'volts' as per NWB 2.1.0.\n",
      "  warnings.warn(\n",
      "C:\\Users\\allen\\anaconda3\\lib\\site-packages\\pynwb\\icephys.py:309: UserWarning: Unit 'V' for CurrentClampStimulusSeries 'index_28' is ignored and will be set to 'amperes' as per NWB 2.1.0.\n",
      "  warnings.warn(\n",
      "C:\\Users\\allen\\anaconda3\\lib\\site-packages\\pynwb\\icephys.py:309: UserWarning: Unit 'A' for VoltageClampStimulusSeries 'index_29' is ignored and will be set to 'volts' as per NWB 2.1.0.\n",
      "  warnings.warn(\n",
      "C:\\Users\\allen\\anaconda3\\lib\\site-packages\\pynwb\\icephys.py:309: UserWarning: Unit 'V' for CurrentClampStimulusSeries 'index_30' is ignored and will be set to 'amperes' as per NWB 2.1.0.\n",
      "  warnings.warn(\n",
      "C:\\Users\\allen\\anaconda3\\lib\\site-packages\\pynwb\\icephys.py:309: UserWarning: Unit 'A' for VoltageClampStimulusSeries 'index_31' is ignored and will be set to 'volts' as per NWB 2.1.0.\n",
      "  warnings.warn(\n",
      "C:\\Users\\allen\\anaconda3\\lib\\site-packages\\pynwb\\icephys.py:309: UserWarning: Unit 'V' for CurrentClampStimulusSeries 'index_32' is ignored and will be set to 'amperes' as per NWB 2.1.0.\n",
      "  warnings.warn(\n",
      "C:\\Users\\allen\\anaconda3\\lib\\site-packages\\pynwb\\icephys.py:309: UserWarning: Unit 'A' for VoltageClampStimulusSeries 'index_33' is ignored and will be set to 'volts' as per NWB 2.1.0.\n",
      "  warnings.warn(\n",
      "C:\\Users\\allen\\Documents\\GitHub\\ABF2_NWB\\ipfx_old\\ipfx\\x_to_nwb\\ABFConverter.py:469: UserWarning: Could not find settings for amplifier unknown of channel Vm_sec.\n",
      "  warnings.warn(f\"Could not find settings for amplifier {amplifier} of channel {adcName}.\")\n",
      "C:\\Users\\allen\\anaconda3\\lib\\site-packages\\pynwb\\icephys.py:309: UserWarning: Unit 'V' for CurrentClampSeries 'index_00' is ignored and will be set to 'volts' as per NWB 2.1.0.\n",
      "  warnings.warn(\n",
      "C:\\Users\\allen\\Documents\\GitHub\\ABF2_NWB\\ipfx_old\\ipfx\\x_to_nwb\\ABFConverter.py:469: UserWarning: Could not find settings for amplifier unknown of channel IN 12.\n",
      "  warnings.warn(f\"Could not find settings for amplifier {amplifier} of channel {adcName}.\")\n",
      "C:\\Users\\allen\\anaconda3\\lib\\site-packages\\pynwb\\icephys.py:309: UserWarning: Unit 'A' for VoltageClampSeries 'index_01' is ignored and will be set to 'amperes' as per NWB 2.1.0.\n",
      "  warnings.warn(\n",
      "C:\\Users\\allen\\anaconda3\\lib\\site-packages\\pynwb\\icephys.py:309: UserWarning: Unit 'V' for CurrentClampSeries 'index_02' is ignored and will be set to 'volts' as per NWB 2.1.0.\n",
      "  warnings.warn(\n",
      "C:\\Users\\allen\\anaconda3\\lib\\site-packages\\pynwb\\icephys.py:309: UserWarning: Unit 'A' for VoltageClampSeries 'index_03' is ignored and will be set to 'amperes' as per NWB 2.1.0.\n",
      "  warnings.warn(\n",
      "C:\\Users\\allen\\anaconda3\\lib\\site-packages\\pynwb\\icephys.py:309: UserWarning: Unit 'V' for CurrentClampSeries 'index_04' is ignored and will be set to 'volts' as per NWB 2.1.0.\n",
      "  warnings.warn(\n",
      "C:\\Users\\allen\\anaconda3\\lib\\site-packages\\pynwb\\icephys.py:309: UserWarning: Unit 'A' for VoltageClampSeries 'index_05' is ignored and will be set to 'amperes' as per NWB 2.1.0.\n",
      "  warnings.warn(\n",
      "C:\\Users\\allen\\anaconda3\\lib\\site-packages\\pynwb\\icephys.py:309: UserWarning: Unit 'V' for CurrentClampSeries 'index_06' is ignored and will be set to 'volts' as per NWB 2.1.0.\n",
      "  warnings.warn(\n",
      "C:\\Users\\allen\\anaconda3\\lib\\site-packages\\pynwb\\icephys.py:309: UserWarning: Unit 'A' for VoltageClampSeries 'index_07' is ignored and will be set to 'amperes' as per NWB 2.1.0.\n",
      "  warnings.warn(\n",
      "C:\\Users\\allen\\anaconda3\\lib\\site-packages\\pynwb\\icephys.py:309: UserWarning: Unit 'V' for CurrentClampSeries 'index_08' is ignored and will be set to 'volts' as per NWB 2.1.0.\n",
      "  warnings.warn(\n",
      "C:\\Users\\allen\\anaconda3\\lib\\site-packages\\pynwb\\icephys.py:309: UserWarning: Unit 'A' for VoltageClampSeries 'index_09' is ignored and will be set to 'amperes' as per NWB 2.1.0.\n",
      "  warnings.warn(\n",
      "C:\\Users\\allen\\anaconda3\\lib\\site-packages\\pynwb\\icephys.py:309: UserWarning: Unit 'V' for CurrentClampSeries 'index_10' is ignored and will be set to 'volts' as per NWB 2.1.0.\n",
      "  warnings.warn(\n",
      "C:\\Users\\allen\\anaconda3\\lib\\site-packages\\pynwb\\icephys.py:309: UserWarning: Unit 'A' for VoltageClampSeries 'index_11' is ignored and will be set to 'amperes' as per NWB 2.1.0.\n",
      "  warnings.warn(\n",
      "C:\\Users\\allen\\anaconda3\\lib\\site-packages\\pynwb\\icephys.py:309: UserWarning: Unit 'V' for CurrentClampSeries 'index_12' is ignored and will be set to 'volts' as per NWB 2.1.0.\n",
      "  warnings.warn(\n",
      "C:\\Users\\allen\\anaconda3\\lib\\site-packages\\pynwb\\icephys.py:309: UserWarning: Unit 'A' for VoltageClampSeries 'index_13' is ignored and will be set to 'amperes' as per NWB 2.1.0.\n",
      "  warnings.warn(\n",
      "C:\\Users\\allen\\anaconda3\\lib\\site-packages\\pynwb\\icephys.py:309: UserWarning: Unit 'V' for CurrentClampSeries 'index_14' is ignored and will be set to 'volts' as per NWB 2.1.0.\n",
      "  warnings.warn(\n",
      "C:\\Users\\allen\\anaconda3\\lib\\site-packages\\pynwb\\icephys.py:309: UserWarning: Unit 'A' for VoltageClampSeries 'index_15' is ignored and will be set to 'amperes' as per NWB 2.1.0.\n",
      "  warnings.warn(\n",
      "C:\\Users\\allen\\anaconda3\\lib\\site-packages\\pynwb\\icephys.py:309: UserWarning: Unit 'V' for CurrentClampSeries 'index_16' is ignored and will be set to 'volts' as per NWB 2.1.0.\n",
      "  warnings.warn(\n",
      "C:\\Users\\allen\\anaconda3\\lib\\site-packages\\pynwb\\icephys.py:309: UserWarning: Unit 'A' for VoltageClampSeries 'index_17' is ignored and will be set to 'amperes' as per NWB 2.1.0.\n",
      "  warnings.warn(\n",
      "C:\\Users\\allen\\anaconda3\\lib\\site-packages\\pynwb\\icephys.py:309: UserWarning: Unit 'V' for CurrentClampSeries 'index_18' is ignored and will be set to 'volts' as per NWB 2.1.0.\n",
      "  warnings.warn(\n",
      "C:\\Users\\allen\\anaconda3\\lib\\site-packages\\pynwb\\icephys.py:309: UserWarning: Unit 'A' for VoltageClampSeries 'index_19' is ignored and will be set to 'amperes' as per NWB 2.1.0.\n",
      "  warnings.warn(\n",
      "C:\\Users\\allen\\anaconda3\\lib\\site-packages\\pynwb\\icephys.py:309: UserWarning: Unit 'V' for CurrentClampSeries 'index_20' is ignored and will be set to 'volts' as per NWB 2.1.0.\n",
      "  warnings.warn(\n",
      "C:\\Users\\allen\\anaconda3\\lib\\site-packages\\pynwb\\icephys.py:309: UserWarning: Unit 'A' for VoltageClampSeries 'index_21' is ignored and will be set to 'amperes' as per NWB 2.1.0.\n",
      "  warnings.warn(\n",
      "C:\\Users\\allen\\anaconda3\\lib\\site-packages\\pynwb\\icephys.py:309: UserWarning: Unit 'V' for CurrentClampSeries 'index_22' is ignored and will be set to 'volts' as per NWB 2.1.0.\n",
      "  warnings.warn(\n"
     ]
    },
    {
     "name": "stderr",
     "output_type": "stream",
     "text": [
      "C:\\Users\\allen\\anaconda3\\lib\\site-packages\\pynwb\\icephys.py:309: UserWarning: Unit 'A' for VoltageClampSeries 'index_23' is ignored and will be set to 'amperes' as per NWB 2.1.0.\n",
      "  warnings.warn(\n",
      "C:\\Users\\allen\\anaconda3\\lib\\site-packages\\pynwb\\icephys.py:309: UserWarning: Unit 'V' for CurrentClampSeries 'index_24' is ignored and will be set to 'volts' as per NWB 2.1.0.\n",
      "  warnings.warn(\n",
      "C:\\Users\\allen\\anaconda3\\lib\\site-packages\\pynwb\\icephys.py:309: UserWarning: Unit 'A' for VoltageClampSeries 'index_25' is ignored and will be set to 'amperes' as per NWB 2.1.0.\n",
      "  warnings.warn(\n",
      "C:\\Users\\allen\\anaconda3\\lib\\site-packages\\pynwb\\icephys.py:309: UserWarning: Unit 'V' for CurrentClampSeries 'index_26' is ignored and will be set to 'volts' as per NWB 2.1.0.\n",
      "  warnings.warn(\n",
      "C:\\Users\\allen\\anaconda3\\lib\\site-packages\\pynwb\\icephys.py:309: UserWarning: Unit 'A' for VoltageClampSeries 'index_27' is ignored and will be set to 'amperes' as per NWB 2.1.0.\n",
      "  warnings.warn(\n",
      "C:\\Users\\allen\\anaconda3\\lib\\site-packages\\pynwb\\icephys.py:309: UserWarning: Unit 'V' for CurrentClampSeries 'index_28' is ignored and will be set to 'volts' as per NWB 2.1.0.\n",
      "  warnings.warn(\n",
      "C:\\Users\\allen\\anaconda3\\lib\\site-packages\\pynwb\\icephys.py:309: UserWarning: Unit 'A' for VoltageClampSeries 'index_29' is ignored and will be set to 'amperes' as per NWB 2.1.0.\n",
      "  warnings.warn(\n",
      "C:\\Users\\allen\\anaconda3\\lib\\site-packages\\pynwb\\icephys.py:309: UserWarning: Unit 'V' for CurrentClampSeries 'index_30' is ignored and will be set to 'volts' as per NWB 2.1.0.\n",
      "  warnings.warn(\n",
      "C:\\Users\\allen\\anaconda3\\lib\\site-packages\\pynwb\\icephys.py:309: UserWarning: Unit 'A' for VoltageClampSeries 'index_31' is ignored and will be set to 'amperes' as per NWB 2.1.0.\n",
      "  warnings.warn(\n",
      "C:\\Users\\allen\\anaconda3\\lib\\site-packages\\pynwb\\icephys.py:309: UserWarning: Unit 'V' for CurrentClampSeries 'index_32' is ignored and will be set to 'volts' as per NWB 2.1.0.\n",
      "  warnings.warn(\n",
      "C:\\Users\\allen\\anaconda3\\lib\\site-packages\\pynwb\\icephys.py:309: UserWarning: Unit 'A' for VoltageClampSeries 'index_33' is ignored and will be set to 'amperes' as per NWB 2.1.0.\n",
      "  warnings.warn(\n"
     ]
    },
    {
     "data": {
      "text/plain": [
       "<ipfx_old.ipfx.x_to_nwb.ABFConverter.ABFConverter at 0x1ca46fb72b0>"
      ]
     },
     "execution_count": 2,
     "metadata": {},
     "output_type": "execute_result"
    }
   ],
   "source": [
    "from ipfx_old.ipfx.x_to_nwb import ABFConverter\n",
    "\n",
    "abf_file_location = 'examples/' #locate the directory where the abf file is located\n",
    "output_location = 'output/' #locate the directory where the converted nwb file should be stored\n",
    "abf_file_name = '2020_01_27_0002.abf' #name of the abf file\n",
    "channel_list_name = 'Vm_sec' #name of the channel of interest\n",
    "\n",
    "ABFConverter.ABFConverter(abf_file_location + abf_file_name, output_location + abf_file_name[:-4] + '.nwb', channel_list_name)"
   ]
  },
  {
   "cell_type": "markdown",
   "metadata": {},
   "source": [
    "## Loading converted nwb file into ipfx for feature extraction. Input the filename of the newly converted nwb file."
   ]
  },
  {
   "cell_type": "code",
   "execution_count": 2,
   "metadata": {
    "scrolled": false
   },
   "outputs": [
    {
     "name": "stdout",
     "output_type": "stream",
     "text": [
      "loading dataset into data structure...\n"
     ]
    },
    {
     "name": "stderr",
     "output_type": "stream",
     "text": [
      "C:\\Users\\allen\\anaconda3\\lib\\site-packages\\ipfx\\stimulus.py:88: UserWarning: Could not find stimulus: I-V curve ,-400 pA\n",
      "  warnings.warn(\"Could not find stimulus: %s\" % tag)\n",
      "WARNING:root:sweep 0: ['experiment epoch is missing', 'stim epoch is missing']\n",
      "WARNING:root:sweep 1: ['experiment epoch is missing', 'stim epoch is missing']\n",
      "WARNING:root:sweep 2: ['experiment epoch is missing', 'stim epoch is missing']\n",
      "WARNING:root:sweep 3: ['experiment epoch is missing', 'stim epoch is missing']\n",
      "WARNING:root:sweep 4: ['experiment epoch is missing', 'stim epoch is missing']\n",
      "WARNING:root:sweep 5: ['experiment epoch is missing', 'stim epoch is missing']\n",
      "WARNING:root:sweep 6: ['experiment epoch is missing', 'stim epoch is missing']\n",
      "WARNING:root:sweep 7: ['experiment epoch is missing', 'stim epoch is missing']\n",
      "WARNING:root:sweep 8: ['test epoch is missing', 'experiment epoch is missing', 'stim epoch is missing']\n",
      "WARNING:root:sweep 9: ['experiment epoch is missing', 'stim epoch is missing']\n",
      "WARNING:root:sweep 10: ['experiment epoch is missing', 'stim epoch is missing']\n",
      "WARNING:root:sweep 11: ['experiment epoch is missing', 'stim epoch is missing']\n",
      "WARNING:root:sweep 12: ['experiment epoch is missing', 'stim epoch is missing']\n",
      "WARNING:root:sweep 13: ['experiment epoch is missing', 'stim epoch is missing']\n",
      "WARNING:root:sweep 14: ['experiment epoch is missing', 'stim epoch is missing']\n",
      "WARNING:root:sweep 15: ['experiment epoch is missing', 'stim epoch is missing']\n",
      "WARNING:root:sweep 16: ['experiment epoch is missing', 'stim epoch is missing']\n"
     ]
    }
   ],
   "source": [
    "# Load IPFX libraries\n",
    "from ipfx.dataset.create import create_ephys_data_set\n",
    "from ipfx.data_set_features import extract_data_set_features\n",
    "from ipfx.utilities import drop_failed_sweeps\n",
    "from ipfx.qc_feature_extractor import sweep_qc_features\n",
    "\n",
    "# Load pandas library too\n",
    "import pandas as pd\n",
    "from ipfx.dataset.create import create_ephys_data_set\n",
    "from ipfx.utilities import drop_failed_sweeps\n",
    "\n",
    "file_name = \"output/2020_01_27_0002.nwb\" #input the location of the output nwb file of interest\n",
    "\n",
    "# Create Ephys Data Set\n",
    "\n",
    "print('loading dataset into data structure...')\n",
    "#nwb_file_name = '/Users/stripathy/Downloads/sub-601462951_ses-601810292_icephys.nwb'\n",
    "data_set = create_ephys_data_set(nwb_file=file_name, ontology=\"ipfx_new/ipfx_new/defaults/stimulus_ontology.json\") ##loads nwb file into ipfx data structure\n",
    "\n",
    "# sweep = data_set.sweep(0)\n",
    "# sweep_features = sweep_qc_features(data_set)\n",
    "# Drop failed sweeps: sweeps with incomplete recording or failing QC criteria\n",
    "drop_failed_sweeps(data_set)\n",
    "# ipfx.data_set_features.extract_data_set_features(data_set, subthresh_min_amp=None)[source]\n"
   ]
  },
  {
   "cell_type": "markdown",
   "metadata": {},
   "source": [
    "## Extracting featuring using ipfx toolset."
   ]
  },
  {
   "cell_type": "code",
   "execution_count": 3,
   "metadata": {
    "scrolled": true
   },
   "outputs": [
    {
     "name": "stderr",
     "output_type": "stream",
     "text": [
      "C:\\Users\\allen\\anaconda3\\lib\\site-packages\\ipfx\\stimulus.py:88: UserWarning: Could not find stimulus: I-V curve ,-400 pA\n",
      "  warnings.warn(\"Could not find stimulus: %s\" % tag)\n",
      "C:\\Users\\allen\\anaconda3\\lib\\site-packages\\ipfx\\spike_features.py:87: RuntimeWarning: invalid value encountered in less\n",
      "  width_levels[width_levels < v[spike_indexes]] = thresh_to_peak_levels[width_levels < v[spike_indexes]]\n",
      "INFO:numexpr.utils:Note: NumExpr detected 16 cores but \"NUMEXPR_MAX_THREADS\" not set, so enforcing safe limit of 8.\n",
      "INFO:numexpr.utils:NumExpr defaulting to 8 threads.\n"
     ]
    },
    {
     "name": "stdout",
     "output_type": "stream",
     "text": [
      "<ipfx.sweep.SweepSet object at 0x000001CDA1685370>\n",
      "tau: nan\n",
      "v_baseline: -63.63647954604205\n",
      "input_resistance: -2.63397216796875\n",
      "vm_for_sag: -98.51074\n",
      "fi_fit_slope: 0.03999999930245474\n",
      "sag: 1.450990915298462\n",
      "rheobase_i: 150.0\n"
     ]
    },
    {
     "name": "stderr",
     "output_type": "stream",
     "text": [
      "C:\\Users\\allen\\anaconda3\\lib\\site-packages\\ipfx\\stimulus_protocol_analysis.py:219: RuntimeWarning: Mean of empty slice\n",
      "  features[\"tau\"] = np.nanmean(calc_subthresh_features['tau'])\n"
     ]
    }
   ],
   "source": [
    "from ipfx.feature_extractor import SpikeFeatureExtractor, SpikeTrainFeatureExtractor\n",
    "\n",
    "import ipfx.stimulus_protocol_analysis as spa\n",
    "from ipfx.epochs import get_stim_epoch\n",
    "import matplotlib.pyplot as plt\n",
    "\n",
    "\n",
    "# get sweep table of Long Square sweeps\n",
    "long_square_table = data_set.filtered_sweep_table(\n",
    "    stimuli=data_set.ontology.long_square_names\n",
    ")\n",
    "long_square_sweeps = data_set.sweep_set(long_square_table.sweep_number)\n",
    "\n",
    "long_square_sweeps = data_set.sweep_set()\n",
    "\n",
    "# Select epoch corresponding to the actual recording from the sweeps\n",
    "# and align sweeps so that the experiment would start at the same time\n",
    "long_square_sweeps.select_epoch(\"recording\")\n",
    "# long_square_sweeps.align_to_start_of_epoch(\"experiment\")\n",
    "print(long_square_sweeps)\n",
    "# find the start and end time of the stimulus\n",
    "# (treating the first sweep as representative)\n",
    "# stim_start_index, stim_end_index = get_stim_epoch(long_square_sweeps.i[0], test_pulse=False)\n",
    "# stim_start_time = long_square_sweeps.t[0][stim_start_index]\n",
    "# stim_end_time = long_square_sweeps.t[0][stim_end_index]\n",
    "\n",
    "stim_start_time = 0.01\n",
    "stim_end_time = 0.6\n",
    "\n",
    "# build the extractors\n",
    "spfx = SpikeFeatureExtractor(start=stim_start_time, end=stim_end_time, filter = 1)\n",
    "sptfx = SpikeTrainFeatureExtractor(start=stim_start_time, end=stim_end_time)\n",
    "\n",
    "# run the analysis and print out a few of the features\n",
    "long_square_analysis = spa.LongSquareAnalysis(spfx, sptfx, subthresh_min_amp=-100.0)\n",
    "data = long_square_analysis.analyze(long_square_sweeps)\n",
    "\n",
    "fields_to_print = [\n",
    "    'tau',\n",
    "    'v_baseline',\n",
    "    'input_resistance',\n",
    "    'vm_for_sag',\n",
    "    'fi_fit_slope',\n",
    "    'sag',\n",
    "    'rheobase_i'\n",
    "]\n",
    "\n",
    "for field in fields_to_print:\n",
    "    print(\"%s: %s\" % (field, str(data[field])))"
   ]
  },
  {
   "cell_type": "markdown",
   "metadata": {},
   "source": [
    "## Plotting the sweeps using ipfx toolset."
   ]
  },
  {
   "cell_type": "code",
   "execution_count": 4,
   "metadata": {},
   "outputs": [
    {
     "name": "stderr",
     "output_type": "stream",
     "text": [
      "C:\\Users\\allen\\anaconda3\\lib\\site-packages\\ipfx\\stimulus.py:88: UserWarning: Could not find stimulus: I-V curve ,-400 pA\n",
      "  warnings.warn(\"Could not find stimulus: %s\" % tag)\n"
     ]
    },
    {
     "data": {
      "image/png": "[encoded data removed]",
      "text/plain": [
       "<Figure size 432x288 with 2 Axes>"
      ]
     },
     "metadata": {
      "needs_background": "light"
     },
     "output_type": "display_data"
    }
   ],
   "source": [
    "import numpy as np\n",
    "import pandas as pd\n",
    "import matplotlib.pyplot as plt\n",
    "import seaborn as sns\n",
    "\n",
    "# these are basic IPFX objects for working with sweeps and sets of sweeps\n",
    "from ipfx.sweep import Sweep, SweepSet \n",
    "\n",
    "sweep_plot_index = 11 # which sweep number do you want to plot?\n",
    "\n",
    "curr_sweep = data_set.sweep_set(sweep_plot_index).sweeps[0]\n",
    "t = curr_sweep.t\n",
    "v = curr_sweep.v\n",
    "i = curr_sweep.i\n",
    "\n",
    "fig, axes = plt.subplots(2, 1, sharex=True)\n",
    "\n",
    "axes[0].plot(t, v)\n",
    "axes[0].set_xlim(0, 2)\n",
    "axes[0].set_ylabel(\"Membrane voltage (mV)\")\n",
    "\n",
    "axes[1].plot(t, i, c=\"orange\")\n",
    "axes[1].set_ylabel(\"Injected current (pA)\")\n",
    "\n",
    "sns.despine()"
   ]
  },
  {
   "cell_type": "markdown",
   "metadata": {},
   "source": [
    "## Plotting the sweeps using pyabf toolset."
   ]
  },
  {
   "cell_type": "code",
   "execution_count": 5,
   "metadata": {},
   "outputs": [
    {
     "data": {
      "image/png": "[encoded data removed]",
      "text/plain": [
       "<Figure size 576x360 with 2 Axes>"
      ]
     },
     "metadata": {
      "needs_background": "light"
     },
     "output_type": "display_data"
    }
   ],
   "source": [
    "### Import statements\n",
    "import pyabf\n",
    "import matplotlib.pyplot as plt\n",
    "\n",
    "import warnings\n",
    "warnings.filterwarnings('ignore')\n",
    "\n",
    "# refers to example_datasets folder in github repo\n",
    "file_rel_path = 'examples/'\n",
    "\n",
    "curr_file = '2020_01_27_0002.abf'\n",
    "abf_file_path = file_rel_path + curr_file\n",
    "\n",
    "abf = pyabf.ABF(abf_file_path) # this is the basic function for accessing abf files\n",
    "\n",
    "### Configuration variables\n",
    "stim_channel_num = 1 # on which channel number is the stimulus?\n",
    "response_chan_num = 0 # on which channel number is the response?\n",
    "\n",
    "stim_gain = 1 # integer gain on stimulus\n",
    "response_gain = 1 # integer gain on response\n",
    "\n",
    "stim_end = 1 # time point where stimulus ends\n",
    "\n",
    "sweep_plot_list = [11] # sweeps we want to plot\n",
    "fig = plt.figure(figsize=(8, 5))\n",
    "\n",
    "### Figure plotting\n",
    "for i in sweep_plot_list:\n",
    "    sweep_num = i\n",
    "    # this setSweep command sets the currently active sweep in the file\n",
    "    abf.setSweep(sweep_num, channel=response_chan_num)\n",
    "    # plot the ADC (voltage recording)\n",
    "    ax1 = fig.add_subplot(211)\n",
    "    ax1.plot(abf.sweepX, abf.sweepY*response_gain, alpha = .5)\n",
    "\n",
    "    # plot the DAC (clamp current)\n",
    "    abf.setSweep(sweep_num, channel=stim_channel_num)\n",
    "    ax2 = fig.add_subplot(212, sharex=ax1)  \n",
    "    #abf.setSweep(sweep_num, channel=1)\n",
    "    ax2.plot(abf.sweepX, abf.sweepC * stim_gain, alpha = .5)\n",
    "\n",
    "# decorate the plots\n",
    "ax1.set_ylabel(abf.sweepLabelC)\n",
    "ax2.set_xlabel(abf.sweepLabelX)\n",
    "ax2.set_ylabel(abf.sweepLabelY)\n",
    "ax1.axes.set_xlim(0, stim_end)  # <-- adjust axis like this\n",
    "plt.show()"
   ]
  },
  {
   "cell_type": "code",
   "execution_count": null,
   "metadata": {},
   "outputs": [],
   "source": []
  }
 ],
 "metadata": {
  "kernelspec": {
   "display_name": "Python 3",
   "language": "python",
   "name": "python3"
  },
  "language_info": {
   "codemirror_mode": {
    "name": "ipython",
    "version": 3
   },
   "file_extension": ".py",
   "mimetype": "text/x-python",
   "name": "python",
   "nbconvert_exporter": "python",
   "pygments_lexer": "ipython3",
   "version": "3.8.3"
  }
 },
 "nbformat": 4,
 "nbformat_minor": 2
}
