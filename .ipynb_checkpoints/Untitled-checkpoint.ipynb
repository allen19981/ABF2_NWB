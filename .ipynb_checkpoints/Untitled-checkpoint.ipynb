{
 "cells": [
  {
   "cell_type": "code",
   "execution_count": 7,
   "metadata": {},
   "outputs": [
    {
     "name": "stderr",
     "output_type": "stream",
     "text": [
      "Cloning into 'NWB'...\n",
      "Checking out files:  68% (15/22)   \n",
      "Checking out files:  72% (16/22)   \n",
      "Checking out files:  77% (17/22)   \n",
      "Checking out files:  81% (18/22)   \n",
      "Checking out files:  86% (19/22)   \n",
      "Checking out files:  90% (20/22)   \n",
      "Checking out files:  95% (21/22)   \n",
      "Checking out files: 100% (22/22)   \n",
      "Checking out files: 100% (22/22), done.\n"
     ]
    }
   ],
   "source": [
    "!git clone https://github.com/stripathy/NWB.git\n"
   ]
  },
  {
   "cell_type": "code",
   "execution_count": 1,
   "metadata": {},
   "outputs": [],
   "source": [
    "from NWB.ABF1Converter import ABF1Converter ### import the converter class"
   ]
  },
  {
   "cell_type": "code",
   "execution_count": 9,
   "metadata": {},
   "outputs": [],
   "source": [
    "# import functions\n",
    "import os\n",
    "import sys\n",
    "import glob\n",
    "import argparse\n",
    "\n",
    "\n",
    "def abf_to_nwb(inputPath, outFolder, outputMetadata, acquisitionChannelName, stimulusChannelName, overwrite, \n",
    "               responseGain = 1.0, stimulusGain = 1.0, responseOffset = 0.0, clampMode = 1):\n",
    "    \"\"\"\n",
    "    Sample file handling script for NWB conversion.\n",
    "\n",
    "    Takes the path to the ABF v1 file as the first command line argument and writes the corresponding NWB file\n",
    "    to the folder specified by the second command line argument.\n",
    "\n",
    "    NWB Files organized by cell, with assumption that each abf file corresponds to each cell\n",
    "    \"\"\"\n",
    "\n",
    "    if not os.path.exists(inputPath):\n",
    "        raise ValueError(f\"The file or folder {inputPath} does not exist.\")\n",
    "\n",
    "    if not os.path.exists(outFolder):\n",
    "        raise ValueError(f\"The file or folder {outFolder} does not exist.\")\n",
    "\n",
    "    # Collect ABF files from the specified directory. \n",
    "\n",
    "    if os.path.isfile(inputPath):\n",
    "        files = [inputPath]\n",
    "    elif os.path.isdir(inputPath):\n",
    "        files = glob.glob(inputPath + \"/*.abf\")\n",
    "    else:\n",
    "        raise ValueError(f\"Invalid path {inputPath}: input must be a path to a file or a directory\")\n",
    "\n",
    "    if len(files) == 0:\n",
    "        raise ValueError(f\"Invalid path {inputPath} does not contain any ABF files.\")\n",
    "\n",
    "    for inputFile in files:\n",
    "\n",
    "        fileName = os.path.basename(inputFile)\n",
    "        root, _ = os.path.splitext(fileName)\n",
    "\n",
    "        print(f\"Converting {fileName}...\")\n",
    "\n",
    "        # Generate name for new NWB file\n",
    "\n",
    "        outFile = os.path.join(outFolder, root + \".nwb\")\n",
    "\n",
    "        if os.path.exists(outFile):\n",
    "            if overwrite:\n",
    "                os.unlink(outFile)\n",
    "            else:\n",
    "                raise ValueError(f\"The file {outFile} already exists.\")\n",
    "\n",
    "        # Enter each ABF file into the converter script. The additional arguments are meant for command line operations.\n",
    "\n",
    "        conv = ABF1Converter(inputFile, outFile, \n",
    "                             acquisitionChannelName=acquisitionChannelName, stimulusChannelName=stimulusChannelName, \n",
    "          responseGain = responseGain,\n",
    "          stimulusGain = stimulusGain,\n",
    "          responseOffset = responseOffset, clampMode = clampMode\n",
    "                            )\n",
    "        conv.convert()\n",
    "\n",
    "        if outputMetadata:\n",
    "            conv._outputMetadata()"
   ]
  },
  {
   "cell_type": "code",
   "execution_count": 16,
   "metadata": {},
   "outputs": [],
   "source": [
    "import pandas as pd\n",
    "import pyabf\n",
    "\n",
    "# read final csv that has the ouput of metadata gathering process\n",
    "# csv_meta_save_path = 'outputFeedback/cell_final_raw_meta_df.csv'\n",
    "# cell_final_raw_meta_df = pd.read_csv(open(csv_meta_save_path, 'rb'))  \n",
    "\n",
    "# an example abf file in the example datasets folder\n",
    "\n",
    "curr_file = 'examples/Cell3/2020_03_02_0023.abf'\n",
    "abf_file_path = curr_file\n",
    "\n",
    "abf = pyabf.ABF(abf_file_path)\n",
    "#stim_abf = pyabf.ABF(stim_file_path) # for some files we're using stim traces from a different file"
   ]
  },
  {
   "cell_type": "code",
   "execution_count": 13,
   "metadata": {},
   "outputs": [
    {
     "ename": "NameError",
     "evalue": "name 'cell_final_raw_meta_df' is not defined",
     "output_type": "error",
     "traceback": [
      "\u001b[1;31m---------------------------------------------------------------------------\u001b[0m",
      "\u001b[1;31mNameError\u001b[0m                                 Traceback (most recent call last)",
      "\u001b[1;32m<ipython-input-13-e01e0de0a5b6>\u001b[0m in \u001b[0;36m<module>\u001b[1;34m\u001b[0m\n\u001b[0;32m      1\u001b[0m \u001b[1;31m# get the row for the cell from the csv file that we just imported\u001b[0m\u001b[1;33m\u001b[0m\u001b[1;33m\u001b[0m\u001b[1;33m\u001b[0m\u001b[0m\n\u001b[1;32m----> 2\u001b[1;33m \u001b[0mmeta_row\u001b[0m \u001b[1;33m=\u001b[0m \u001b[0mcell_final_raw_meta_df\u001b[0m\u001b[1;33m.\u001b[0m\u001b[0mloc\u001b[0m\u001b[1;33m[\u001b[0m\u001b[0mcell_final_raw_meta_df\u001b[0m\u001b[1;33m[\u001b[0m\u001b[1;34m'cell_id'\u001b[0m\u001b[1;33m]\u001b[0m \u001b[1;33m==\u001b[0m \u001b[0mcurr_file\u001b[0m\u001b[1;33m]\u001b[0m\u001b[1;33m\u001b[0m\u001b[1;33m\u001b[0m\u001b[0m\n\u001b[0m\u001b[0;32m      3\u001b[0m \u001b[1;33m\u001b[0m\u001b[0m\n\u001b[0;32m      4\u001b[0m \u001b[0mnum_sweeps\u001b[0m \u001b[1;33m=\u001b[0m \u001b[0mint\u001b[0m\u001b[1;33m(\u001b[0m\u001b[0mmeta_row\u001b[0m\u001b[1;33m[\u001b[0m\u001b[1;34m'num_sweeps'\u001b[0m\u001b[1;33m]\u001b[0m\u001b[1;33m.\u001b[0m\u001b[0mvalues\u001b[0m\u001b[1;33m[\u001b[0m\u001b[1;36m0\u001b[0m\u001b[1;33m]\u001b[0m\u001b[1;33m)\u001b[0m\u001b[1;33m\u001b[0m\u001b[1;33m\u001b[0m\u001b[0m\n\u001b[0;32m      5\u001b[0m \u001b[1;33m\u001b[0m\u001b[0m\n",
      "\u001b[1;31mNameError\u001b[0m: name 'cell_final_raw_meta_df' is not defined"
     ]
    }
   ],
   "source": [
    "# get the row for the cell from the csv file that we just imported\n",
    "meta_row = cell_final_raw_meta_df.loc[cell_final_raw_meta_df['cell_id'] == curr_file]\n",
    "\n",
    "num_sweeps = int(meta_row['num_sweeps'].values[0])\n",
    "\n",
    "stim_channel_num = int(meta_row['stim_chan'].values[0])\n",
    "response_chan_num = int(meta_row['resp_chan'].values[0])\n",
    "\n",
    "acq_channel_name = abf.adcNames[response_chan_num]\n",
    "\n",
    "\n",
    "if stim_name == 'sweepC':\n",
    "    stim_chan_name = abf.dacNames[stim_channel_num]\n",
    "else:                  \n",
    "    stim_chan_name = abf.adcNames[stim_channel_num]\n",
    "\n",
    "stim_gain = meta_row['stim_gain'].values[0]\n",
    "if stim_gain == 1000:\n",
    "    stim_gain = 1.0\n",
    "response_gain = meta_row['resp_gain'].values[0]\n",
    "\n",
    "start_time = meta_row['stim_start_time'].values[0]\n",
    "end_time = meta_row['stim_end_time'].values[0]\n",
    "resp_sampling_rate = meta_row['resp_sampling_rate'].values[0]\n",
    "resp_offset = meta_row['resp_offset'].values[0]\n",
    "\n",
    "responseGain = response_gain\n",
    "responseOffset = resp_offset\n",
    "stimulusGain = stim_gain\n",
    "clampMode = 1 # this is current clamp"
   ]
  },
  {
   "cell_type": "code",
   "execution_count": 20,
   "metadata": {},
   "outputs": [
    {
     "name": "stdout",
     "output_type": "stream",
     "text": [
      "Converting 2020_03_02_0023.abf...\n",
      "examples/Cell3/2020_03_02_0023.abf\n"
     ]
    },
    {
     "ename": "ValueError",
     "evalue": "The ABF version for the file ABF (version 2.6.0.0) with 2 channels (mV, pA), sampled at 20.0 kHz, containing 18 sweeps, having 1 tag (C3-, RMp -68, 93, L5), with a total length of 0.47 minutes, recorded with protocol \"I-V curve ,-400 pA\". is not supported.",
     "output_type": "error",
     "traceback": [
      "\u001b[1;31m---------------------------------------------------------------------------\u001b[0m",
      "\u001b[1;31mValueError\u001b[0m                                Traceback (most recent call last)",
      "\u001b[1;32m<ipython-input-20-f5491c3f3492>\u001b[0m in \u001b[0;36m<module>\u001b[1;34m\u001b[0m\n\u001b[0;32m      8\u001b[0m            \u001b[0macquisitionChannelName\u001b[0m\u001b[1;33m=\u001b[0m\u001b[1;36m0\u001b[0m\u001b[1;33m,\u001b[0m\u001b[1;33m\u001b[0m\u001b[1;33m\u001b[0m\u001b[0m\n\u001b[0;32m      9\u001b[0m            \u001b[0mstimulusChannelName\u001b[0m\u001b[1;33m=\u001b[0m\u001b[1;36m1\u001b[0m\u001b[1;33m,\u001b[0m\u001b[1;33m\u001b[0m\u001b[1;33m\u001b[0m\u001b[0m\n\u001b[1;32m---> 10\u001b[1;33m            \u001b[0moverwrite\u001b[0m\u001b[1;33m=\u001b[0m\u001b[1;32mTrue\u001b[0m\u001b[1;33m,\u001b[0m\u001b[1;33m\u001b[0m\u001b[1;33m\u001b[0m\u001b[0m\n\u001b[0m\u001b[0;32m     11\u001b[0m           )\n",
      "\u001b[1;32m<ipython-input-9-493c1a8f5246>\u001b[0m in \u001b[0;36mabf_to_nwb\u001b[1;34m(inputPath, outFolder, outputMetadata, acquisitionChannelName, stimulusChannelName, overwrite, responseGain, stimulusGain, responseOffset, clampMode)\u001b[0m\n\u001b[0;32m     58\u001b[0m           \u001b[0mresponseGain\u001b[0m \u001b[1;33m=\u001b[0m \u001b[0mresponseGain\u001b[0m\u001b[1;33m,\u001b[0m\u001b[1;33m\u001b[0m\u001b[1;33m\u001b[0m\u001b[0m\n\u001b[0;32m     59\u001b[0m           \u001b[0mstimulusGain\u001b[0m \u001b[1;33m=\u001b[0m \u001b[0mstimulusGain\u001b[0m\u001b[1;33m,\u001b[0m\u001b[1;33m\u001b[0m\u001b[1;33m\u001b[0m\u001b[0m\n\u001b[1;32m---> 60\u001b[1;33m           \u001b[0mresponseOffset\u001b[0m \u001b[1;33m=\u001b[0m \u001b[0mresponseOffset\u001b[0m\u001b[1;33m,\u001b[0m \u001b[0mclampMode\u001b[0m \u001b[1;33m=\u001b[0m \u001b[0mclampMode\u001b[0m\u001b[1;33m\u001b[0m\u001b[1;33m\u001b[0m\u001b[0m\n\u001b[0m\u001b[0;32m     61\u001b[0m                             )\n\u001b[0;32m     62\u001b[0m         \u001b[0mconv\u001b[0m\u001b[1;33m.\u001b[0m\u001b[0mconvert\u001b[0m\u001b[1;33m(\u001b[0m\u001b[1;33m)\u001b[0m\u001b[1;33m\u001b[0m\u001b[1;33m\u001b[0m\u001b[0m\n",
      "\u001b[1;32m~\\Documents\\GitHub\\ABF2_NWB\\NWB\\ABF1Converter.py\u001b[0m in \u001b[0;36m__init__\u001b[1;34m(self, inputPath, outputFilePath, acquisitionChannelName, stimulusChannelName, responseGain, stimulusGain, responseOffset, clampMode)\u001b[0m\n\u001b[0;32m     49\u001b[0m             \u001b[0mabf\u001b[0m \u001b[1;33m=\u001b[0m \u001b[0mpyabf\u001b[0m\u001b[1;33m.\u001b[0m\u001b[0mABF\u001b[0m\u001b[1;33m(\u001b[0m\u001b[0mself\u001b[0m\u001b[1;33m.\u001b[0m\u001b[0minputPath\u001b[0m\u001b[1;33m)\u001b[0m\u001b[1;33m\u001b[0m\u001b[1;33m\u001b[0m\u001b[0m\n\u001b[0;32m     50\u001b[0m             \u001b[1;32mif\u001b[0m \u001b[0mabf\u001b[0m\u001b[1;33m.\u001b[0m\u001b[0mabfVersion\u001b[0m\u001b[1;33m[\u001b[0m\u001b[1;34m\"major\"\u001b[0m\u001b[1;33m]\u001b[0m \u001b[1;33m!=\u001b[0m \u001b[1;36m1\u001b[0m\u001b[1;33m:\u001b[0m\u001b[1;33m\u001b[0m\u001b[1;33m\u001b[0m\u001b[0m\n\u001b[1;32m---> 51\u001b[1;33m                 \u001b[1;32mraise\u001b[0m \u001b[0mValueError\u001b[0m\u001b[1;33m(\u001b[0m\u001b[1;34mf\"The ABF version for the file {abf} is not supported.\"\u001b[0m\u001b[1;33m)\u001b[0m\u001b[1;33m\u001b[0m\u001b[1;33m\u001b[0m\u001b[0m\n\u001b[0m\u001b[0;32m     52\u001b[0m \u001b[1;33m\u001b[0m\u001b[0m\n\u001b[0;32m     53\u001b[0m             \u001b[0mself\u001b[0m\u001b[1;33m.\u001b[0m\u001b[0mfileNames\u001b[0m \u001b[1;33m=\u001b[0m \u001b[1;33m[\u001b[0m\u001b[0mos\u001b[0m\u001b[1;33m.\u001b[0m\u001b[0mpath\u001b[0m\u001b[1;33m.\u001b[0m\u001b[0mbasename\u001b[0m\u001b[1;33m(\u001b[0m\u001b[0mself\u001b[0m\u001b[1;33m.\u001b[0m\u001b[0minputPath\u001b[0m\u001b[1;33m)\u001b[0m\u001b[1;33m]\u001b[0m\u001b[1;33m\u001b[0m\u001b[1;33m\u001b[0m\u001b[0m\n",
      "\u001b[1;31mValueError\u001b[0m: The ABF version for the file ABF (version 2.6.0.0) with 2 channels (mV, pA), sampled at 20.0 kHz, containing 18 sweeps, having 1 tag (C3-, RMp -68, 93, L5), with a total length of 0.47 minutes, recorded with protocol \"I-V curve ,-400 pA\". is not supported."
     ]
    }
   ],
   "source": [
    "# sets the folder for output files\n",
    "outFolder = 'output/'\n",
    "outputMetadata = True\n",
    "\n",
    "abf_to_nwb(inputPath=abf_file_path,\n",
    "           outFolder=outFolder,\n",
    "           outputMetadata=False,\n",
    "           acquisitionChannelName=0,\n",
    "           stimulusChannelName=1,\n",
    "           overwrite=True, \n",
    "          )"
   ]
  },
  {
   "cell_type": "code",
   "execution_count": null,
   "metadata": {},
   "outputs": [],
   "source": []
  }
 ],
 "metadata": {
  "kernelspec": {
   "display_name": "Python 3",
   "language": "python",
   "name": "python3"
  },
  "language_info": {
   "codemirror_mode": {
    "name": "ipython",
    "version": 3
   },
   "file_extension": ".py",
   "mimetype": "text/x-python",
   "name": "python",
   "nbconvert_exporter": "python",
   "pygments_lexer": "ipython3",
   "version": "3.7.1"
  }
 },
 "nbformat": 4,
 "nbformat_minor": 2
}
