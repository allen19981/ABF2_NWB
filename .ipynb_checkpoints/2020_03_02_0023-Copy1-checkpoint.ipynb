{
 "cells": [
  {
   "cell_type": "code",
   "execution_count": 17,
   "metadata": {},
   "outputs": [
    {
     "name": "stderr",
     "output_type": "stream",
     "text": [
      "WARNING:pyabf.abf:fileGUID isn't truly unique (fileUUID is)\n"
     ]
    },
    {
     "data": {
      "text/plain": [
       "<ipfx_new.ipfx_new.x_to_nwb.ABFConverter.ABFConverter at 0x266376c3f98>"
      ]
     },
     "execution_count": 17,
     "metadata": {},
     "output_type": "execute_result"
    }
   ],
   "source": [
    "from ipfx_new.ipfx_new.x_to_nwb import ABFConverter\n",
    "ABFConverter.ABFConverter('examples/Cell3/2020_03_02_0023.abf', 'output/2020_03_02_0023.nwb', includeChannelList=[\"IN 12\"])"
   ]
  },
  {
   "cell_type": "code",
   "execution_count": 18,
   "metadata": {},
   "outputs": [
    {
     "data": {
      "image/png": "[encoded data removed]",
      "text/plain": [
       "<Figure size 576x360 with 2 Axes>"
      ]
     },
     "metadata": {
      "needs_background": "light"
     },
     "output_type": "display_data"
    }
   ],
   "source": [
    "### Import statements\n",
    "import pyabf\n",
    "import matplotlib.pyplot as plt\n",
    "\n",
    "import warnings\n",
    "warnings.filterwarnings('ignore')\n",
    "\n",
    "# refers to example_datasets folder in github repo\n",
    "file_rel_path = 'examples/Cell3/'\n",
    "\n",
    "curr_file = '2020_03_02_0023.abf'\n",
    "abf_file_path = file_rel_path + curr_file\n",
    "\n",
    "abf = pyabf.ABF(abf_file_path) # this is the basic function for accessing abf files\n",
    "\n",
    "### Configuration variables\n",
    "stim_channel_num = 1 # on which channel number is the stimulus?\n",
    "response_chan_num = 0 # on which channel number is the response?\n",
    "\n",
    "stim_gain = 1 # integer gain on stimulus\n",
    "response_gain = 1 # integer gain on response\n",
    "\n",
    "stim_end = 1 # time point where stimulus ends\n",
    "\n",
    "sweep_plot_list = [11] # sweeps we want to plot\n",
    "fig = plt.figure(figsize=(8, 5))\n",
    "\n",
    "### Figure plotting\n",
    "for i in sweep_plot_list:\n",
    "    sweep_num = i\n",
    "    \n",
    "    # this setSweep command sets the currently active sweep in the file\n",
    "    abf.setSweep(sweep_num, channel=response_chan_num)\n",
    "    # plot the ADC (voltage recording)\n",
    "    ax1 = fig.add_subplot(211)\n",
    "    ax1.plot(abf.sweepX, abf.sweepY*response_gain, alpha = .5)\n",
    "\n",
    "    # plot the DAC (clamp current)\n",
    "    abf.setSweep(sweep_num, channel=stim_channel_num)\n",
    "    ax2 = fig.add_subplot(212, sharex=ax1)  \n",
    "    #abf.setSweep(sweep_num, channel=1)\n",
    "    ax2.plot(abf.sweepX, abf.sweepC * stim_gain, alpha = .5)\n",
    "\n",
    "# decorate the plots\n",
    "ax1.set_ylabel(abf.sweepLabelY)\n",
    "ax2.set_xlabel(abf.sweepLabelX)\n",
    "ax2.set_ylabel(abf.sweepLabelC)\n",
    "ax1.axes.set_xlim(0, stim_end)  # <-- adjust axis like this\n",
    "plt.show()"
   ]
  },
  {
   "cell_type": "code",
   "execution_count": 19,
   "metadata": {},
   "outputs": [
    {
     "name": "stdout",
     "output_type": "stream",
     "text": [
      "loading dataset into data structure...\n"
     ]
    },
    {
     "ename": "ValueError",
     "evalue": "Found multiple stimulus series {[s.name for s in matching_series]} for sweep number {sweep_number}",
     "output_type": "error",
     "traceback": [
      "\u001b[1;31m---------------------------------------------------------------------------\u001b[0m",
      "\u001b[1;31mValueError\u001b[0m                                Traceback (most recent call last)",
      "\u001b[1;32m<ipython-input-19-2bdf88e17a20>\u001b[0m in \u001b[0;36m<module>\u001b[1;34m\u001b[0m\n\u001b[0;32m     22\u001b[0m \u001b[1;31m# sweep_features = sweep_qc_features(data_set)\u001b[0m\u001b[1;33m\u001b[0m\u001b[1;33m\u001b[0m\u001b[1;33m\u001b[0m\u001b[0m\n\u001b[0;32m     23\u001b[0m \u001b[1;31m# Drop failed sweeps: sweeps with incomplete recording or failing QC criteria\u001b[0m\u001b[1;33m\u001b[0m\u001b[1;33m\u001b[0m\u001b[1;33m\u001b[0m\u001b[0m\n\u001b[1;32m---> 24\u001b[1;33m \u001b[0mdrop_failed_sweeps\u001b[0m\u001b[1;33m(\u001b[0m\u001b[0mdata_set\u001b[0m\u001b[1;33m)\u001b[0m\u001b[1;33m\u001b[0m\u001b[1;33m\u001b[0m\u001b[0m\n\u001b[0m\u001b[0;32m     25\u001b[0m \u001b[1;31m# ipfx.data_set_features.extract_data_set_features(data_set, subthresh_min_amp=None)[source]\u001b[0m\u001b[1;33m\u001b[0m\u001b[1;33m\u001b[0m\u001b[1;33m\u001b[0m\u001b[0m\n",
      "\u001b[1;32m~\\Anaconda3\\lib\\site-packages\\ipfx\\utilities.py\u001b[0m in \u001b[0;36mdrop_failed_sweeps\u001b[1;34m(dataset, stimulus_ontology, qc_criteria)\u001b[0m\n\u001b[0;32m     32\u001b[0m         \u001b[0mqc_criteria\u001b[0m \u001b[1;33m=\u001b[0m \u001b[0mqcp\u001b[0m\u001b[1;33m.\u001b[0m\u001b[0mload_default_qc_criteria\u001b[0m\u001b[1;33m(\u001b[0m\u001b[1;33m)\u001b[0m\u001b[1;33m\u001b[0m\u001b[1;33m\u001b[0m\u001b[0m\n\u001b[0;32m     33\u001b[0m \u001b[1;33m\u001b[0m\u001b[0m\n\u001b[1;32m---> 34\u001b[1;33m     \u001b[0msweep_features\u001b[0m \u001b[1;33m=\u001b[0m \u001b[0msweep_qc_features\u001b[0m\u001b[1;33m(\u001b[0m\u001b[0mdataset\u001b[0m\u001b[1;33m)\u001b[0m\u001b[1;33m\u001b[0m\u001b[1;33m\u001b[0m\u001b[0m\n\u001b[0m\u001b[0;32m     35\u001b[0m     \u001b[0msweep_props\u001b[0m\u001b[1;33m.\u001b[0m\u001b[0mdrop_tagged_sweeps\u001b[0m\u001b[1;33m(\u001b[0m\u001b[0msweep_features\u001b[0m\u001b[1;33m)\u001b[0m\u001b[1;33m\u001b[0m\u001b[1;33m\u001b[0m\u001b[0m\n\u001b[0;32m     36\u001b[0m     \u001b[0msweep_props\u001b[0m\u001b[1;33m.\u001b[0m\u001b[0mremove_sweep_feature\u001b[0m\u001b[1;33m(\u001b[0m\u001b[1;34m\"tags\"\u001b[0m\u001b[1;33m,\u001b[0m \u001b[0msweep_features\u001b[0m\u001b[1;33m)\u001b[0m\u001b[1;33m\u001b[0m\u001b[1;33m\u001b[0m\u001b[0m\n",
      "\u001b[1;32m~\\Anaconda3\\lib\\site-packages\\ipfx\\qc_feature_extractor.py\u001b[0m in \u001b[0;36msweep_qc_features\u001b[1;34m(data_set)\u001b[0m\n\u001b[0;32m    266\u001b[0m     \u001b[0msweeps_features\u001b[0m \u001b[1;33m=\u001b[0m \u001b[1;33m[\u001b[0m\u001b[1;33m]\u001b[0m\u001b[1;33m\u001b[0m\u001b[1;33m\u001b[0m\u001b[0m\n\u001b[0;32m    267\u001b[0m     iclamp_sweeps = data_set.filtered_sweep_table(clamp_mode=data_set.CURRENT_CLAMP,\n\u001b[1;32m--> 268\u001b[1;33m                                                   \u001b[0mstimuli_exclude\u001b[0m\u001b[1;33m=\u001b[0m\u001b[1;33m[\u001b[0m\u001b[1;34m\"Test\"\u001b[0m\u001b[1;33m,\u001b[0m \u001b[1;34m\"Search\"\u001b[0m\u001b[1;33m]\u001b[0m\u001b[1;33m,\u001b[0m\u001b[1;33m\u001b[0m\u001b[1;33m\u001b[0m\u001b[0m\n\u001b[0m\u001b[0;32m    269\u001b[0m                                                   )\n\u001b[0;32m    270\u001b[0m     \u001b[1;32mif\u001b[0m \u001b[0mlen\u001b[0m\u001b[1;33m(\u001b[0m\u001b[0miclamp_sweeps\u001b[0m\u001b[1;33m.\u001b[0m\u001b[0mindex\u001b[0m\u001b[1;33m)\u001b[0m \u001b[1;33m==\u001b[0m \u001b[1;36m0\u001b[0m\u001b[1;33m:\u001b[0m\u001b[1;33m\u001b[0m\u001b[1;33m\u001b[0m\u001b[0m\n",
      "\u001b[1;32m~\\Anaconda3\\lib\\site-packages\\ipfx\\dataset\\ephys_data_set.py\u001b[0m in \u001b[0;36mfiltered_sweep_table\u001b[1;34m(self, clamp_mode, stimuli, stimuli_exclude)\u001b[0m\n\u001b[0;32m    141\u001b[0m         \u001b[0mfiltered\u001b[0m \u001b[0msweep\u001b[0m \u001b[0mtable\u001b[0m\u001b[1;33m\u001b[0m\u001b[1;33m\u001b[0m\u001b[0m\n\u001b[0;32m    142\u001b[0m         \"\"\"\n\u001b[1;32m--> 143\u001b[1;33m         \u001b[0mst\u001b[0m \u001b[1;33m=\u001b[0m \u001b[0mself\u001b[0m\u001b[1;33m.\u001b[0m\u001b[0msweep_table\u001b[0m\u001b[1;33m\u001b[0m\u001b[1;33m\u001b[0m\u001b[0m\n\u001b[0m\u001b[0;32m    144\u001b[0m \u001b[1;33m\u001b[0m\u001b[0m\n\u001b[0;32m    145\u001b[0m         \u001b[1;32mif\u001b[0m \u001b[0mclamp_mode\u001b[0m\u001b[1;33m:\u001b[0m\u001b[1;33m\u001b[0m\u001b[1;33m\u001b[0m\u001b[0m\n",
      "\u001b[1;32m~\\Anaconda3\\lib\\site-packages\\ipfx\\dataset\\ephys_data_set.py\u001b[0m in \u001b[0;36msweep_table\u001b[1;34m(self)\u001b[0m\n\u001b[0;32m     59\u001b[0m             \u001b[0msweeps\u001b[0m\u001b[1;33m:\u001b[0m \u001b[0mList\u001b[0m\u001b[1;33m[\u001b[0m\u001b[0mDict\u001b[0m\u001b[1;33m]\u001b[0m \u001b[1;33m=\u001b[0m \u001b[1;33m[\u001b[0m\u001b[1;33m]\u001b[0m\u001b[1;33m\u001b[0m\u001b[1;33m\u001b[0m\u001b[0m\n\u001b[0;32m     60\u001b[0m             \u001b[1;32mfor\u001b[0m \u001b[0mnum\u001b[0m \u001b[1;32min\u001b[0m \u001b[0mself\u001b[0m\u001b[1;33m.\u001b[0m\u001b[0m_data\u001b[0m\u001b[1;33m.\u001b[0m\u001b[0msweep_numbers\u001b[0m\u001b[1;33m:\u001b[0m\u001b[1;33m\u001b[0m\u001b[1;33m\u001b[0m\u001b[0m\n\u001b[1;32m---> 61\u001b[1;33m                 \u001b[0mcurrent\u001b[0m \u001b[1;33m=\u001b[0m \u001b[0mself\u001b[0m\u001b[1;33m.\u001b[0m\u001b[0m_data\u001b[0m\u001b[1;33m.\u001b[0m\u001b[0mget_sweep_metadata\u001b[0m\u001b[1;33m(\u001b[0m\u001b[0mnum\u001b[0m\u001b[1;33m)\u001b[0m\u001b[1;33m\u001b[0m\u001b[1;33m\u001b[0m\u001b[0m\n\u001b[0m\u001b[0;32m     62\u001b[0m \u001b[1;33m\u001b[0m\u001b[0m\n\u001b[0;32m     63\u001b[0m                 \u001b[1;32mif\u001b[0m \u001b[0mself\u001b[0m\u001b[1;33m.\u001b[0m\u001b[0m_sweep_info\u001b[0m\u001b[1;33m:\u001b[0m\u001b[1;33m\u001b[0m\u001b[1;33m\u001b[0m\u001b[0m\n",
      "\u001b[1;32m~\\Anaconda3\\lib\\site-packages\\ipfx\\dataset\\hbg_nwb_data.py\u001b[0m in \u001b[0;36mget_sweep_metadata\u001b[1;34m(self, sweep_number)\u001b[0m\n\u001b[0;32m     32\u001b[0m         sweep_record = {\n\u001b[0;32m     33\u001b[0m             \u001b[1;34m\"sweep_number\"\u001b[0m\u001b[1;33m:\u001b[0m \u001b[0msweep_number\u001b[0m\u001b[1;33m,\u001b[0m\u001b[1;33m\u001b[0m\u001b[1;33m\u001b[0m\u001b[0m\n\u001b[1;32m---> 34\u001b[1;33m             \u001b[1;34m\"stimulus_units\"\u001b[0m\u001b[1;33m:\u001b[0m \u001b[0mself\u001b[0m\u001b[1;33m.\u001b[0m\u001b[0mget_stimulus_unit\u001b[0m\u001b[1;33m(\u001b[0m\u001b[0msweep_number\u001b[0m\u001b[1;33m)\u001b[0m\u001b[1;33m,\u001b[0m\u001b[1;33m\u001b[0m\u001b[1;33m\u001b[0m\u001b[0m\n\u001b[0m\u001b[0;32m     35\u001b[0m             \u001b[1;34m\"bridge_balance_mohm\"\u001b[0m\u001b[1;33m:\u001b[0m \u001b[0mget_finite_or_none\u001b[0m\u001b[1;33m(\u001b[0m\u001b[0mattrs\u001b[0m\u001b[1;33m,\u001b[0m \u001b[1;34m\"bridge_balance\"\u001b[0m\u001b[1;33m)\u001b[0m\u001b[1;33m,\u001b[0m\u001b[1;33m\u001b[0m\u001b[1;33m\u001b[0m\u001b[0m\n\u001b[0;32m     36\u001b[0m             \u001b[1;34m\"leak_pa\"\u001b[0m\u001b[1;33m:\u001b[0m \u001b[0mget_finite_or_none\u001b[0m\u001b[1;33m(\u001b[0m\u001b[0mattrs\u001b[0m\u001b[1;33m,\u001b[0m \u001b[1;34m\"bias_current\"\u001b[0m\u001b[1;33m)\u001b[0m\u001b[1;33m,\u001b[0m\u001b[1;33m\u001b[0m\u001b[1;33m\u001b[0m\u001b[0m\n",
      "\u001b[1;32m~\\Anaconda3\\lib\\site-packages\\ipfx\\dataset\\ephys_nwb_data.py\u001b[0m in \u001b[0;36mget_stimulus_unit\u001b[1;34m(self, sweep_number)\u001b[0m\n\u001b[0;32m    271\u001b[0m \u001b[1;33m\u001b[0m\u001b[0m\n\u001b[0;32m    272\u001b[0m     \u001b[1;32mdef\u001b[0m \u001b[0mget_stimulus_unit\u001b[0m\u001b[1;33m(\u001b[0m\u001b[0mself\u001b[0m\u001b[1;33m,\u001b[0m\u001b[0msweep_number\u001b[0m\u001b[1;33m)\u001b[0m\u001b[1;33m:\u001b[0m\u001b[1;33m\u001b[0m\u001b[1;33m\u001b[0m\u001b[0m\n\u001b[1;32m--> 273\u001b[1;33m         \u001b[0mstimulus_series\u001b[0m \u001b[1;33m=\u001b[0m \u001b[0mself\u001b[0m\u001b[1;33m.\u001b[0m\u001b[0m_get_series\u001b[0m\u001b[1;33m(\u001b[0m\u001b[0msweep_number\u001b[0m\u001b[1;33m,\u001b[0m\u001b[0mself\u001b[0m\u001b[1;33m.\u001b[0m\u001b[0mSTIMULUS\u001b[0m\u001b[1;33m)\u001b[0m\u001b[1;33m\u001b[0m\u001b[1;33m\u001b[0m\u001b[0m\n\u001b[0m\u001b[0;32m    274\u001b[0m         \u001b[1;32mreturn\u001b[0m \u001b[0mtype\u001b[0m\u001b[1;33m(\u001b[0m\u001b[0mself\u001b[0m\u001b[1;33m)\u001b[0m\u001b[1;33m.\u001b[0m\u001b[0mget_long_unit_name\u001b[0m\u001b[1;33m(\u001b[0m\u001b[0mstimulus_series\u001b[0m\u001b[1;33m.\u001b[0m\u001b[0munit\u001b[0m\u001b[1;33m)\u001b[0m\u001b[1;33m\u001b[0m\u001b[1;33m\u001b[0m\u001b[0m\n\u001b[0;32m    275\u001b[0m \u001b[1;33m\u001b[0m\u001b[0m\n",
      "\u001b[1;32m~\\Anaconda3\\lib\\site-packages\\ipfx\\dataset\\ephys_nwb_data.py\u001b[0m in \u001b[0;36m_get_series\u001b[1;34m(self, sweep_number, series_class)\u001b[0m\n\u001b[0;32m    136\u001b[0m             \u001b[1;32mreturn\u001b[0m \u001b[0mmatching_series\u001b[0m\u001b[1;33m[\u001b[0m\u001b[1;36m0\u001b[0m\u001b[1;33m]\u001b[0m\u001b[1;33m\u001b[0m\u001b[1;33m\u001b[0m\u001b[0m\n\u001b[0;32m    137\u001b[0m         \u001b[1;32melse\u001b[0m\u001b[1;33m:\u001b[0m\u001b[1;33m\u001b[0m\u001b[1;33m\u001b[0m\u001b[0m\n\u001b[1;32m--> 138\u001b[1;33m             raise ValueError(\"Found multiple stimulus series \"\n\u001b[0m\u001b[0;32m    139\u001b[0m                              \u001b[1;34m\"{[s.name for s in matching_series]} \"\u001b[0m\u001b[1;33m\u001b[0m\u001b[1;33m\u001b[0m\u001b[0m\n\u001b[0;32m    140\u001b[0m                              \"for sweep number {sweep_number}\")\n",
      "\u001b[1;31mValueError\u001b[0m: Found multiple stimulus series {[s.name for s in matching_series]} for sweep number {sweep_number}"
     ]
    }
   ],
   "source": [
    "\n",
    "# Load IPFX libraries\n",
    "from ipfx.dataset.create import create_ephys_data_set\n",
    "from ipfx.data_set_features import extract_data_set_features\n",
    "from ipfx.utilities import drop_failed_sweeps\n",
    "from ipfx.qc_feature_extractor import sweep_qc_features\n",
    "\n",
    "# Load pandas library too\n",
    "import pandas as pd\n",
    "from ipfx.dataset.create import create_ephys_data_set\n",
    "from ipfx.utilities import drop_failed_sweeps\n",
    "\n",
    "file_name = \"output/2020_03_02_0023.nwb\"\n",
    "\n",
    "# Create Ephys Data Set\n",
    "\n",
    "print('loading dataset into data structure...')\n",
    "#nwb_file_name = '/Users/stripathy/Downloads/sub-601462951_ses-601810292_icephys.nwb'\n",
    "data_set = create_ephys_data_set(nwb_file=file_name, ontology=\"ipfx/ipfx/defaults/stimulus_ontology.json\") ##loads nwb file into ipfx data structure\n",
    "\n",
    "#sweep = data_set.sweep(0)\n",
    "# sweep_features = sweep_qc_features(data_set)\n",
    "# Drop failed sweeps: sweeps with incomplete recording or failing QC criteria\n",
    "drop_failed_sweeps(data_set)\n",
    "# ipfx.data_set_features.extract_data_set_features(data_set, subthresh_min_amp=None)[source]"
   ]
  },
  {
   "cell_type": "code",
   "execution_count": 5,
   "metadata": {},
   "outputs": [
    {
     "name": "stderr",
     "output_type": "stream",
     "text": [
      "INFO:root:Need to recalculate threshold-peak pair that exceeds maximum allowed interval (0.005000 s)\n",
      "INFO:root:Could not redetermine threshold-peak pair - dropping that pair\n",
      "INFO:root:Need to recalculate threshold-peak pair that exceeds maximum allowed interval (0.005000 s)\n",
      "INFO:root:Could not redetermine threshold-peak pair - dropping that pair\n",
      "INFO:root:Need to recalculate threshold-peak pair that exceeds maximum allowed interval (0.005000 s)\n",
      "INFO:root:Could not redetermine threshold-peak pair - dropping that pair\n",
      "INFO:root:Need to recalculate threshold-peak pair that exceeds maximum allowed interval (0.005000 s)\n",
      "INFO:root:Could not redetermine threshold-peak pair - dropping that pair\n",
      "INFO:root:Need to recalculate threshold-peak pair that exceeds maximum allowed interval (0.005000 s)\n",
      "INFO:root:Could not redetermine threshold-peak pair - dropping that pair\n",
      "INFO:root:Need to recalculate threshold-peak pair that exceeds maximum allowed interval (0.005000 s)\n",
      "INFO:root:Need to recalculate threshold-peak pair that exceeds maximum allowed interval (0.005000 s)\n",
      "INFO:root:Need to recalculate threshold-peak pair that exceeds maximum allowed interval (0.005000 s)\n",
      "INFO:root:Need to recalculate threshold-peak pair that exceeds maximum allowed interval (0.005000 s)\n",
      "INFO:root:Need to recalculate threshold-peak pair that exceeds maximum allowed interval (0.005000 s)\n",
      "INFO:root:Need to recalculate threshold-peak pair that exceeds maximum allowed interval (0.005000 s)\n",
      "INFO:root:Need to recalculate threshold-peak pair that exceeds maximum allowed interval (0.005000 s)\n",
      "INFO:root:Could not redetermine threshold-peak pair - dropping that pair\n",
      "INFO:root:Could not redetermine threshold-peak pair - dropping that pair\n",
      "INFO:root:Could not redetermine threshold-peak pair - dropping that pair\n",
      "INFO:root:Could not redetermine threshold-peak pair - dropping that pair\n",
      "INFO:root:Could not redetermine threshold-peak pair - dropping that pair\n",
      "INFO:root:Could not redetermine threshold-peak pair - dropping that pair\n",
      "INFO:root:Could not redetermine threshold-peak pair - dropping that pair\n",
      "INFO:root:Need to recalculate threshold-peak pair that exceeds maximum allowed interval (0.005000 s)\n",
      "INFO:root:Need to recalculate threshold-peak pair that exceeds maximum allowed interval (0.005000 s)\n",
      "INFO:root:Need to recalculate threshold-peak pair that exceeds maximum allowed interval (0.005000 s)\n",
      "INFO:root:Need to recalculate threshold-peak pair that exceeds maximum allowed interval (0.005000 s)\n",
      "INFO:root:Need to recalculate threshold-peak pair that exceeds maximum allowed interval (0.005000 s)\n",
      "INFO:root:Need to recalculate threshold-peak pair that exceeds maximum allowed interval (0.005000 s)\n",
      "INFO:root:Need to recalculate threshold-peak pair that exceeds maximum allowed interval (0.005000 s)\n",
      "INFO:root:Need to recalculate threshold-peak pair that exceeds maximum allowed interval (0.005000 s)\n",
      "INFO:root:Could not redetermine threshold-peak pair - dropping that pair\n",
      "INFO:root:Could not redetermine threshold-peak pair - dropping that pair\n",
      "INFO:root:Could not redetermine threshold-peak pair - dropping that pair\n",
      "INFO:root:Could not redetermine threshold-peak pair - dropping that pair\n",
      "INFO:root:Could not redetermine threshold-peak pair - dropping that pair\n",
      "INFO:root:Could not redetermine threshold-peak pair - dropping that pair\n",
      "INFO:root:Could not redetermine threshold-peak pair - dropping that pair\n",
      "INFO:root:Could not redetermine threshold-peak pair - dropping that pair\n"
     ]
    },
    {
     "name": "stdout",
     "output_type": "stream",
     "text": [
      "tau: 0.006932148875185264\n",
      "v_baseline: -67.77605260213217\n",
      "input_resistance: 94.36050057411194\n",
      "vm_for_sag: -90.271\n",
      "fi_fit_slope: 0.5174894389767606\n",
      "sag: 0.08304978907108307\n",
      "rheobase_i: 200.0\n"
     ]
    }
   ],
   "source": [
    "from ipfx.feature_extractor import SpikeFeatureExtractor, SpikeTrainFeatureExtractor\n",
    "\n",
    "import ipfx.stimulus_protocol_analysis as spa\n",
    "from ipfx.epochs import get_stim_epoch\n",
    "import matplotlib.pyplot as plt\n",
    "\n",
    "\n",
    "# get sweep table of Long Square sweeps\n",
    "long_square_table = data_set.filtered_sweep_table(\n",
    "    stimuli=data_set.ontology.long_square_names\n",
    ")\n",
    "long_square_sweeps = data_set.sweep_set(long_square_table.sweep_number)\n",
    "\n",
    "long_square_sweeps = data_set.sweep_set()\n",
    "\n",
    "# Select epoch corresponding to the actual recording from the sweeps\n",
    "# and align sweeps so that the experiment would start at the same time\n",
    "long_square_sweeps.select_epoch(\"recording\")\n",
    "# long_square_sweeps.align_to_start_of_epoch(\"experiment\")\n",
    "\n",
    "# find the start and end time of the stimulus\n",
    "# (treating the first sweep as representative)\n",
    "stim_start_index, stim_end_index = get_stim_epoch(long_square_sweeps.i[0], test_pulse=False)\n",
    "stim_start_time = long_square_sweeps.t[0][stim_start_index]\n",
    "stim_end_time = long_square_sweeps.t[0][stim_end_index]\n",
    "\n",
    "# stim_start_time = 0.5\n",
    "# stim_end_time = 1.8\n",
    "\n",
    "# build the extractors\n",
    "spfx = SpikeFeatureExtractor(start=stim_start_time, end=stim_end_time, filter = 1)\n",
    "sptfx = SpikeTrainFeatureExtractor(start=stim_start_time, end=stim_end_time)\n",
    "\n",
    "# run the analysis and print out a few of the features\n",
    "long_square_analysis = spa.LongSquareAnalysis(spfx, sptfx, subthresh_min_amp=-100.0)\n",
    "data = long_square_analysis.analyze(long_square_sweeps)\n",
    "\n",
    "fields_to_print = [\n",
    "    'tau',\n",
    "    'v_baseline',\n",
    "    'input_resistance',\n",
    "    'vm_for_sag',\n",
    "    'fi_fit_slope',\n",
    "    'sag',\n",
    "    'rheobase_i'\n",
    "]\n",
    "\n",
    "for field in fields_to_print:\n",
    "    print(\"%s: %s\" % (field, str(data[field])))"
   ]
  },
  {
   "cell_type": "code",
   "execution_count": 6,
   "metadata": {},
   "outputs": [
    {
     "name": "stderr",
     "output_type": "stream",
     "text": [
      "C:\\Users\\Allose\\Anaconda3\\lib\\site-packages\\ipfx\\stimulus.py:88: UserWarning: Could not find stimulus: cc step 2\n",
      "  warnings.warn(\"Could not find stimulus: %s\" % tag)\n"
     ]
    },
    {
     "data": {
      "image/png": "[encoded data removed]",
      "text/plain": [
       "<Figure size 432x288 with 2 Axes>"
      ]
     },
     "metadata": {
      "needs_background": "light"
     },
     "output_type": "display_data"
    }
   ],
   "source": [
    "import numpy as np\n",
    "import pandas as pd\n",
    "import matplotlib.pyplot as plt\n",
    "import seaborn as sns\n",
    "\n",
    "# these are basic IPFX objects for working with sweeps and sets of sweeps\n",
    "from ipfx.sweep import Sweep, SweepSet \n",
    "\n",
    "sweep_plot_index = 11 # which sweep number do you want to plot?\n",
    "\n",
    "curr_sweep = data_set.sweep_set(sweep_plot_index).sweeps[0]\n",
    "t = curr_sweep.t\n",
    "v = curr_sweep.v\n",
    "i = curr_sweep.i\n",
    "\n",
    "fig, axes = plt.subplots(2, 1, sharex=True)\n",
    "\n",
    "axes[0].plot(t, v)\n",
    "axes[0].set_xlim(.5, 2.5)\n",
    "axes[0].set_ylabel(\"Membrane voltage (mV)\")\n",
    "\n",
    "axes[1].plot(t, i, c=\"orange\")\n",
    "axes[1].set_ylabel(\"Injected current (pA)\")\n",
    "\n",
    "sns.despine()"
   ]
  },
  {
   "cell_type": "code",
   "execution_count": null,
   "metadata": {},
   "outputs": [],
   "source": []
  }
 ],
 "metadata": {
  "kernelspec": {
   "display_name": "Python 3",
   "language": "python",
   "name": "python3"
  },
  "language_info": {
   "codemirror_mode": {
    "name": "ipython",
    "version": 3
   },
   "file_extension": ".py",
   "mimetype": "text/x-python",
   "name": "python",
   "nbconvert_exporter": "python",
   "pygments_lexer": "ipython3",
   "version": "3.7.1"
  }
 },
 "nbformat": 4,
 "nbformat_minor": 2
}
