{
 "cells": [
  {
   "cell_type": "code",
   "execution_count": 1,
   "metadata": {},
   "outputs": [
    {
     "name": "stderr",
     "output_type": "stream",
     "text": [
      "C:\\Users\\Allose\\Documents\\GitHub\\ABF2_NWB\\ipfx_new\\ipfx_new\\x_to_nwb\\ABFConverter.py:154: UserWarning: Could not find the JSON file examples/2020_08_28_0005.json with settings.\n",
      "  warnings.warn(f\"Could not find the JSON file {settings} with settings.\")\n",
      "WARNING:pyabf.abf:fileGUID isn't truly unique (fileUUID is)\n",
      "C:\\Users\\Allose\\Documents\\GitHub\\ABF2_NWB\\ipfx_new\\ipfx_new\\x_to_nwb\\ABFConverter.py:466: UserWarning: Could not find the scale factor for the stimset I-V curve ,-400 pA, using 1.0 as fallback.\n",
      "  warnings.warn(f\"Could not find the scale factor for the stimset {stimset}, using {DEFAULT_SCALE_FACTOR} as fallback.\")\n",
      "C:\\Users\\Allose\\Documents\\GitHub\\ABF2_NWB\\ipfx_new\\ipfx_new\\x_to_nwb\\ABFConverter.py:493: UserWarning: Could not find settings for amplifier unknown of channel 0.\n",
      "  warnings.warn(f\"Could not find settings for amplifier {amplifier} of channel {adcName}.\")\n"
     ]
    },
    {
     "data": {
      "text/plain": [
       "<ipfx_new.ipfx_new.x_to_nwb.ABFConverter.ABFConverter at 0x2005ebf9240>"
      ]
     },
     "execution_count": 1,
     "metadata": {},
     "output_type": "execute_result"
    }
   ],
   "source": [
    "from ipfx_new.ipfx_new.x_to_nwb import ABFConverter\n",
    "ABFConverter.ABFConverter('examples/2020_08_28_0005.abf', 'output/2020_08_28_0005.nwb', includeChannelList=['0'])"
   ]
  },
  {
   "cell_type": "code",
   "execution_count": 14,
   "metadata": {},
   "outputs": [
    {
     "data": {
      "image/png": "[encoded data removed]",
      "text/plain": [
       "<Figure size 576x360 with 2 Axes>"
      ]
     },
     "metadata": {
      "needs_background": "light"
     },
     "output_type": "display_data"
    }
   ],
   "source": [
    "### Import statements\n",
    "import pyabf\n",
    "import matplotlib.pyplot as plt\n",
    "\n",
    "import warnings\n",
    "warnings.filterwarnings('ignore')\n",
    "\n",
    "# refers to example_datasets folder in github repo\n",
    "file_rel_path = 'examples/'\n",
    "\n",
    "curr_file = '2020_08_28_0005.abf'\n",
    "abf_file_path = file_rel_path + curr_file\n",
    "\n",
    "abf = pyabf.ABF(abf_file_path) # this is the basic function for accessing abf files\n",
    "\n",
    "### Configuration variables\n",
    "stim_channel_num = 0 # on which channel number is the stimulus?\n",
    "response_chan_num = 0 # on which channel number is the response?\n",
    "\n",
    "stim_gain = 1 # integer gain on stimulus\n",
    "response_gain = 1 # integer gain on response\n",
    "\n",
    "stim_end = 1 # time point where stimulus ends\n",
    "\n",
    "sweep_plot_list = [15] # sweeps we want to plot\n",
    "fig = plt.figure(figsize=(8, 5))\n",
    "\n",
    "### Figure plotting\n",
    "for i in sweep_plot_list:\n",
    "    sweep_num = i\n",
    "    \n",
    "    # this setSweep command sets the currently active sweep in the file\n",
    "    abf.setSweep(sweep_num, channel=response_chan_num)\n",
    "    # plot the ADC (voltage recording)\n",
    "    ax1 = fig.add_subplot(211)\n",
    "    ax1.plot(abf.sweepX, abf.sweepY*response_gain, alpha = .5)\n",
    "\n",
    "    # plot the DAC (clamp current)\n",
    "    abf.setSweep(sweep_num, channel=stim_channel_num)\n",
    "    ax2 = fig.add_subplot(212, sharex=ax1)  \n",
    "    #abf.setSweep(sweep_num, channel=1)\n",
    "    ax2.plot(abf.sweepX, abf.sweepC * stim_gain, alpha = .5)\n",
    "\n",
    "# decorate the plots\n",
    "ax1.set_ylabel(abf.sweepLabelY)\n",
    "ax2.set_xlabel(abf.sweepLabelX)\n",
    "ax2.set_ylabel(abf.sweepLabelC)\n",
    "ax1.axes.set_xlim(0, stim_end)  # <-- adjust axis like this\n",
    "plt.show()"
   ]
  },
  {
   "cell_type": "code",
   "execution_count": 3,
   "metadata": {},
   "outputs": [
    {
     "name": "stdout",
     "output_type": "stream",
     "text": [
      "loading dataset into data structure...\n"
     ]
    },
    {
     "name": "stderr",
     "output_type": "stream",
     "text": [
      "WARNING:root:sweep 0: ['experiment epoch is missing', 'stim epoch is missing']\n",
      "WARNING:root:sweep 1: ['experiment epoch is missing', 'stim epoch is missing']\n",
      "WARNING:root:sweep 2: ['experiment epoch is missing', 'stim epoch is missing']\n",
      "WARNING:root:sweep 3: ['experiment epoch is missing', 'stim epoch is missing']\n",
      "WARNING:root:sweep 4: ['experiment epoch is missing', 'stim epoch is missing']\n",
      "WARNING:root:sweep 5: ['experiment epoch is missing', 'stim epoch is missing']\n",
      "WARNING:root:sweep 6: ['experiment epoch is missing', 'stim epoch is missing']\n",
      "WARNING:root:sweep 7: ['experiment epoch is missing', 'stim epoch is missing']\n",
      "WARNING:root:sweep 8: ['test epoch is missing', 'experiment epoch is missing', 'stim epoch is missing']\n",
      "WARNING:root:sweep 9: ['experiment epoch is missing', 'stim epoch is missing']\n",
      "WARNING:root:sweep 10: ['experiment epoch is missing', 'stim epoch is missing']\n",
      "WARNING:root:sweep 11: ['experiment epoch is missing', 'stim epoch is missing']\n",
      "WARNING:root:sweep 12: ['experiment epoch is missing', 'stim epoch is missing']\n",
      "WARNING:root:sweep 13: ['experiment epoch is missing', 'stim epoch is missing']\n",
      "WARNING:root:sweep 14: ['experiment epoch is missing', 'stim epoch is missing']\n",
      "WARNING:root:sweep 15: ['experiment epoch is missing', 'stim epoch is missing']\n",
      "WARNING:root:sweep 16: ['experiment epoch is missing', 'stim epoch is missing']\n",
      "WARNING:root:sweep 17: ['experiment epoch is missing', 'stim epoch is missing']\n",
      "WARNING:root:sweep 18: ['experiment epoch is missing', 'stim epoch is missing']\n",
      "WARNING:root:sweep 19: ['experiment epoch is missing', 'stim epoch is missing']\n"
     ]
    }
   ],
   "source": [
    "# Load IPFX libraries\n",
    "from ipfx.dataset.create import create_ephys_data_set\n",
    "from ipfx.data_set_features import extract_data_set_features\n",
    "from ipfx.utilities import drop_failed_sweeps\n",
    "from ipfx.qc_feature_extractor import sweep_qc_features\n",
    "\n",
    "# Load pandas library too\n",
    "import pandas as pd\n",
    "from ipfx.dataset.create import create_ephys_data_set\n",
    "from ipfx.utilities import drop_failed_sweeps\n",
    "\n",
    "file_name = \"output/2020_08_28_0005.nwb\"\n",
    "\n",
    "# Create Ephys Data Set\n",
    "\n",
    "print('loading dataset into data structure...')\n",
    "#nwb_file_name = '/Users/stripathy/Downloads/sub-601462951_ses-601810292_icephys.nwb'\n",
    "data_set = create_ephys_data_set(nwb_file=file_name, ontology=\"ipfx/ipfx/defaults/stimulus_ontology.json\") ##loads nwb file into ipfx data structure\n",
    "\n",
    "# sweep = data_set.sweep(0)\n",
    "# sweep_features = sweep_qc_features(data_set)\n",
    "# Drop failed sweeps: sweeps with incomplete recording or failing QC criteria\n",
    "drop_failed_sweeps(data_set)\n",
    "# ipfx.data_set_features.extract_data_set_features(data_set, subthresh_min_amp=None)[source]\n"
   ]
  },
  {
   "cell_type": "code",
   "execution_count": 5,
   "metadata": {},
   "outputs": [
    {
     "name": "stderr",
     "output_type": "stream",
     "text": [
      "INFO:root:No spiking long square sweeps: cannot compute related cell features.\n"
     ]
    },
    {
     "name": "stdout",
     "output_type": "stream",
     "text": [
      "v_baseline: -3.033073055744171\n",
      "vm_for_sag: -10.589601\n",
      "sag: 0.9926139116287231\n"
     ]
    }
   ],
   "source": [
    "from ipfx.feature_extractor import SpikeFeatureExtractor, SpikeTrainFeatureExtractor\n",
    "\n",
    "import ipfx.stimulus_protocol_analysis as spa\n",
    "from ipfx.epochs import get_stim_epoch\n",
    "import matplotlib.pyplot as plt\n",
    "\n",
    "\n",
    "# get sweep table of Long Square sweeps\n",
    "long_square_table = data_set.filtered_sweep_table(\n",
    "    stimuli=data_set.ontology.long_square_names\n",
    ")\n",
    "long_square_sweeps = data_set.sweep_set(long_square_table.sweep_number)\n",
    "\n",
    "long_square_sweeps = data_set.sweep_set()\n",
    "\n",
    "# Select epoch corresponding to the actual recording from the sweeps\n",
    "# and align sweeps so that the experiment would start at the same time\n",
    "long_square_sweeps.select_epoch(\"recording\")\n",
    "#long_square_sweeps.align_to_start_of_epoch(\"experiment\")\n",
    "\n",
    "# find the start and end time of the stimulus\n",
    "# (treating the first sweep as representative)\n",
    "stim_start_index, stim_end_index = get_stim_epoch(long_square_sweeps.i[0], test_pulse=False)\n",
    "stim_start_time = long_square_sweeps.t[0][stim_start_index]\n",
    "stim_end_time = long_square_sweeps.t[0][stim_end_index]\n",
    "\n",
    "stim_start_time = 0.1\n",
    "stim_end_time = 0.8\n",
    "\n",
    "# build the extractors\n",
    "spfx = SpikeFeatureExtractor(start=stim_start_time, end=stim_end_time, filter = 1)\n",
    "sptfx = SpikeTrainFeatureExtractor(start=stim_start_time, end=stim_end_time)\n",
    "\n",
    "# run the analysis and print out a few of the features\n",
    "long_square_analysis = spa.LongSquareAnalysis(spfx, sptfx, subthresh_min_amp=-100.0, require_subthreshold=False, require_suprathreshold=False)\n",
    "data = long_square_analysis.analyze(long_square_sweeps)\n",
    "\n",
    "fields_to_print = [\n",
    "    'v_baseline',\n",
    "    'vm_for_sag',\n",
    "    'sag'\n",
    "]\n",
    "\n",
    "for field in fields_to_print:\n",
    "    print(\"%s: %s\" % (field, str(data[field])))"
   ]
  },
  {
   "cell_type": "code",
   "execution_count": null,
   "metadata": {},
   "outputs": [],
   "source": []
  },
  {
   "cell_type": "code",
   "execution_count": null,
   "metadata": {},
   "outputs": [],
   "source": []
  }
 ],
 "metadata": {
  "kernelspec": {
   "display_name": "Python 3",
   "language": "python",
   "name": "python3"
  },
  "language_info": {
   "codemirror_mode": {
    "name": "ipython",
    "version": 3
   },
   "file_extension": ".py",
   "mimetype": "text/x-python",
   "name": "python",
   "nbconvert_exporter": "python",
   "pygments_lexer": "ipython3",
   "version": "3.7.1"
  }
 },
 "nbformat": 4,
 "nbformat_minor": 2
}
