{
 "cells": [
  {
   "cell_type": "code",
   "execution_count": 1,
   "metadata": {},
   "outputs": [
    {
     "name": "stderr",
     "output_type": "stream",
     "text": [
      "C:\\Users\\Allose\\Documents\\GitHub\\ABF2_NWB\\ipfx_new\\ipfx_new\\x_to_nwb\\ABFConverter.py:154: UserWarning: Could not find the JSON file examples/CC_4.json with settings.\n",
      "  warnings.warn(f\"Could not find the JSON file {settings} with settings.\")\n",
      "WARNING:pyabf.abf:fileGUID isn't truly unique (fileUUID is)\n",
      "C:\\Users\\Allose\\Documents\\GitHub\\ABF2_NWB\\ipfx_new\\ipfx_new\\x_to_nwb\\ABFConverter.py:466: UserWarning: Could not find the scale factor for the stimset cc step 2, using 1.0 as fallback.\n",
      "  warnings.warn(f\"Could not find the scale factor for the stimset {stimset}, using {DEFAULT_SCALE_FACTOR} as fallback.\")\n",
      "C:\\Users\\Allose\\Documents\\GitHub\\ABF2_NWB\\ipfx_new\\ipfx_new\\x_to_nwb\\ABFConverter.py:493: UserWarning: Could not find settings for amplifier unknown of channel IN 0.\n",
      "  warnings.warn(f\"Could not find settings for amplifier {amplifier} of channel {adcName}.\")\n"
     ]
    },
    {
     "data": {
      "text/plain": [
       "<ipfx_new.ipfx_new.x_to_nwb.ABFConverter.ABFConverter at 0x2d878e9bbe0>"
      ]
     },
     "execution_count": 1,
     "metadata": {},
     "output_type": "execute_result"
    }
   ],
   "source": [
    "from ipfx_new.ipfx_new.x_to_nwb import ABFConverter\n",
    "ABFConverter.ABFConverter('examples/CC_4.abf', 'output/CC_4.nwb', includeChannelList=[\"IN 0\"])"
   ]
  },
  {
   "cell_type": "code",
   "execution_count": 2,
   "metadata": {},
   "outputs": [
    {
     "name": "stdout",
     "output_type": "stream",
     "text": [
      "loading dataset into data structure...\n"
     ]
    },
    {
     "name": "stderr",
     "output_type": "stream",
     "text": [
      "C:\\Users\\Allose\\Anaconda3\\lib\\site-packages\\ipfx\\stimulus.py:88: UserWarning: Could not find stimulus: cc step 2\n",
      "  warnings.warn(\"Could not find stimulus: %s\" % tag)\n",
      "WARNING:root:sweep 0: ['test epoch is missing']\n",
      "WARNING:root:sweep 1: ['test epoch is missing']\n",
      "WARNING:root:sweep 2: ['test epoch is missing']\n",
      "WARNING:root:sweep 3: ['test epoch is missing']\n",
      "WARNING:root:sweep 4: ['test epoch is missing']\n",
      "WARNING:root:sweep 5: ['test epoch is missing']\n",
      "WARNING:root:sweep 6: ['test epoch is missing']\n",
      "WARNING:root:sweep 7: ['test epoch is missing']\n",
      "WARNING:root:sweep 8: ['test epoch is missing']\n",
      "WARNING:root:sweep 9: ['test epoch is missing']\n",
      "WARNING:root:sweep 10: ['test epoch is missing', 'experiment epoch is missing', 'stim epoch is missing']\n",
      "WARNING:root:sweep 11: ['test epoch is missing']\n",
      "WARNING:root:sweep 12: ['test epoch is missing']\n",
      "WARNING:root:sweep 13: ['test epoch is missing']\n",
      "WARNING:root:sweep 14: ['test epoch is missing']\n",
      "WARNING:root:sweep 15: ['test epoch is missing']\n",
      "WARNING:root:sweep 16: ['test epoch is missing']\n",
      "WARNING:root:sweep 17: ['test epoch is missing']\n",
      "WARNING:root:sweep 18: ['test epoch is missing']\n",
      "WARNING:root:sweep 19: ['test epoch is missing']\n",
      "WARNING:root:sweep 20: ['test epoch is missing']\n",
      "WARNING:root:sweep 21: ['test epoch is missing']\n",
      "WARNING:root:sweep 22: ['test epoch is missing']\n",
      "WARNING:root:sweep 23: ['test epoch is missing']\n",
      "WARNING:root:sweep 24: ['test epoch is missing']\n",
      "WARNING:root:sweep 25: ['test epoch is missing']\n",
      "WARNING:root:sweep 26: ['test epoch is missing']\n",
      "WARNING:root:sweep 27: ['test epoch is missing']\n",
      "WARNING:root:sweep 28: ['test epoch is missing']\n",
      "WARNING:root:sweep 29: ['test epoch is missing']\n",
      "WARNING:root:sweep 30: ['test epoch is missing']\n",
      "WARNING:root:sweep 31: ['test epoch is missing']\n",
      "WARNING:root:sweep 32: ['test epoch is missing']\n",
      "WARNING:root:sweep 33: ['test epoch is missing']\n",
      "WARNING:root:sweep 34: ['test epoch is missing']\n"
     ]
    }
   ],
   "source": [
    "\n",
    "# Load IPFX libraries\n",
    "from ipfx.dataset.create import create_ephys_data_set\n",
    "from ipfx.data_set_features import extract_data_set_features\n",
    "from ipfx.utilities import drop_failed_sweeps\n",
    "from ipfx.qc_feature_extractor import sweep_qc_features\n",
    "\n",
    "# Load pandas library too\n",
    "import pandas as pd\n",
    "from ipfx.dataset.create import create_ephys_data_set\n",
    "from ipfx.utilities import drop_failed_sweeps\n",
    "\n",
    "file_name = \"output/CC_4.nwb\"\n",
    "\n",
    "# Create Ephys Data Set\n",
    "\n",
    "print('loading dataset into data structure...')\n",
    "#nwb_file_name = '/Users/stripathy/Downloads/sub-601462951_ses-601810292_icephys.nwb'\n",
    "data_set = create_ephys_data_set(nwb_file=file_name, ontology=\"ipfx/ipfx/defaults/stimulus_ontology.json\") ##loads nwb file into ipfx data structure\n",
    "\n",
    "#sweep = data_set.sweep(0)\n",
    "# sweep_features = sweep_qc_features(data_set)\n",
    "# Drop failed sweeps: sweeps with incomplete recording or failing QC criteria\n",
    "drop_failed_sweeps(data_set)\n",
    "# ipfx.data_set_features.extract_data_set_features(data_set, subthresh_min_amp=None)[source]"
   ]
  },
  {
   "cell_type": "code",
   "execution_count": 3,
   "metadata": {},
   "outputs": [
    {
     "name": "stderr",
     "output_type": "stream",
     "text": [
      "C:\\Users\\Allose\\Anaconda3\\lib\\site-packages\\ipfx\\stimulus.py:88: UserWarning: Could not find stimulus: cc step 2\n",
      "  warnings.warn(\"Could not find stimulus: %s\" % tag)\n",
      "C:\\Users\\Allose\\Anaconda3\\lib\\site-packages\\scipy\\signal\\_arraytools.py:45: FutureWarning: Using a non-tuple sequence for multidimensional indexing is deprecated; use `arr[tuple(seq)]` instead of `arr[seq]`. In the future this will be interpreted as an array index, `arr[np.array(seq)]`, which will result either in an error or a different result.\n",
      "  b = a[a_slice]\n",
      "INFO:root:Need to recalculate threshold-peak pair that exceeds maximum allowed interval (0.005000 s)\n",
      "INFO:root:Could not redetermine threshold-peak pair - dropping that pair\n",
      "INFO:root:Need to recalculate threshold-peak pair that exceeds maximum allowed interval (0.005000 s)\n",
      "INFO:root:Could not redetermine threshold-peak pair - dropping that pair\n",
      "INFO:root:Need to recalculate threshold-peak pair that exceeds maximum allowed interval (0.005000 s)\n",
      "INFO:root:Could not redetermine threshold-peak pair - dropping that pair\n",
      "C:\\Users\\Allose\\Anaconda3\\lib\\site-packages\\ipfx\\spike_features.py:87: RuntimeWarning: invalid value encountered in less\n",
      "  width_levels[width_levels < v[spike_indexes]] = thresh_to_peak_levels[width_levels < v[spike_indexes]]\n",
      "INFO:root:Need to recalculate threshold-peak pair that exceeds maximum allowed interval (0.005000 s)\n",
      "INFO:root:Could not redetermine threshold-peak pair - dropping that pair\n"
     ]
    },
    {
     "name": "stdout",
     "output_type": "stream",
     "text": [
      "tau: nan\n",
      "v_baseline: -57.87563302176339\n",
      "input_resistance: 60.18073856830597\n",
      "vm_for_sag: -72.31445\n",
      "fi_fit_slope: 0.2540384781497055\n",
      "sag: 0.10279662907123566\n",
      "rheobase_i: 150.0\n"
     ]
    },
    {
     "name": "stderr",
     "output_type": "stream",
     "text": [
      "C:\\Users\\Allose\\Anaconda3\\lib\\site-packages\\ipfx\\stimulus_protocol_analysis.py:219: RuntimeWarning: Mean of empty slice\n",
      "  features[\"tau\"] = np.nanmean(calc_subthresh_features['tau'])\n"
     ]
    }
   ],
   "source": [
    "from ipfx.feature_extractor import SpikeFeatureExtractor, SpikeTrainFeatureExtractor\n",
    "\n",
    "import ipfx.stimulus_protocol_analysis as spa\n",
    "from ipfx.epochs import get_stim_epoch\n",
    "import matplotlib.pyplot as plt\n",
    "\n",
    "\n",
    "# get sweep table of Long Square sweeps\n",
    "long_square_table = data_set.filtered_sweep_table(\n",
    "    stimuli=data_set.ontology.long_square_names\n",
    ")\n",
    "long_square_sweeps = data_set.sweep_set(long_square_table.sweep_number)\n",
    "\n",
    "long_square_sweeps = data_set.sweep_set()\n",
    "\n",
    "# Select epoch corresponding to the actual recording from the sweeps\n",
    "# and align sweeps so that the experiment would start at the same time\n",
    "long_square_sweeps.select_epoch(\"recording\")\n",
    "# long_square_sweeps.align_to_start_of_epoch(\"experiment\")\n",
    "\n",
    "# find the start and end time of the stimulus\n",
    "# (treating the first sweep as representative)\n",
    "stim_start_index, stim_end_index = get_stim_epoch(long_square_sweeps.i[0], test_pulse=False)\n",
    "stim_start_time = long_square_sweeps.t[0][stim_start_index]\n",
    "stim_end_time = long_square_sweeps.t[0][stim_end_index]\n",
    "\n",
    "# stim_start_time = 0.5\n",
    "# stim_end_time = 1.8\n",
    "\n",
    "# build the extractors\n",
    "spfx = SpikeFeatureExtractor(start=stim_start_time, end=stim_end_time, filter = 1)\n",
    "sptfx = SpikeTrainFeatureExtractor(start=stim_start_time, end=stim_end_time)\n",
    "\n",
    "# run the analysis and print out a few of the features\n",
    "long_square_analysis = spa.LongSquareAnalysis(spfx, sptfx, subthresh_min_amp=-100.0)\n",
    "data = long_square_analysis.analyze(long_square_sweeps)\n",
    "\n",
    "fields_to_print = [\n",
    "    'tau',\n",
    "    'v_baseline',\n",
    "    'input_resistance',\n",
    "    'vm_for_sag',\n",
    "    'fi_fit_slope',\n",
    "    'sag',\n",
    "    'rheobase_i'\n",
    "]\n",
    "\n",
    "for field in fields_to_print:\n",
    "    print(\"%s: %s\" % (field, str(data[field])))"
   ]
  },
  {
   "cell_type": "code",
   "execution_count": 4,
   "metadata": {},
   "outputs": [
    {
     "name": "stderr",
     "output_type": "stream",
     "text": [
      "C:\\Users\\Allose\\Anaconda3\\lib\\site-packages\\ipfx\\stimulus.py:88: UserWarning: Could not find stimulus: cc step 2\n",
      "  warnings.warn(\"Could not find stimulus: %s\" % tag)\n"
     ]
    },
    {
     "data": {
      "image/png": "[encoded data removed]",
      "text/plain": [
       "<Figure size 432x288 with 2 Axes>"
      ]
     },
     "metadata": {
      "needs_background": "light"
     },
     "output_type": "display_data"
    }
   ],
   "source": [
    "import numpy as np\n",
    "import pandas as pd\n",
    "import matplotlib.pyplot as plt\n",
    "import seaborn as sns\n",
    "\n",
    "# these are basic IPFX objects for working with sweeps and sets of sweeps\n",
    "from ipfx.sweep import Sweep, SweepSet \n",
    "\n",
    "sweep_plot_index = 11 # which sweep number do you want to plot?\n",
    "\n",
    "curr_sweep = data_set.sweep_set(sweep_plot_index).sweeps[0]\n",
    "t = curr_sweep.t\n",
    "v = curr_sweep.v\n",
    "i = curr_sweep.i\n",
    "\n",
    "fig, axes = plt.subplots(2, 1, sharex=True)\n",
    "\n",
    "axes[0].plot(t, v)\n",
    "axes[0].set_xlim(.5, 2.5)\n",
    "axes[0].set_ylabel(\"Membrane voltage (mV)\")\n",
    "\n",
    "axes[1].plot(t, i, c=\"orange\")\n",
    "axes[1].set_ylabel(\"Injected current (pA)\")\n",
    "\n",
    "sns.despine()"
   ]
  },
  {
   "cell_type": "code",
   "execution_count": null,
   "metadata": {},
   "outputs": [],
   "source": []
  }
 ],
 "metadata": {
  "kernelspec": {
   "display_name": "Python 3",
   "language": "python",
   "name": "python3"
  },
  "language_info": {
   "codemirror_mode": {
    "name": "ipython",
    "version": 3
   },
   "file_extension": ".py",
   "mimetype": "text/x-python",
   "name": "python",
   "nbconvert_exporter": "python",
   "pygments_lexer": "ipython3",
   "version": "3.7.1"
  }
 },
 "nbformat": 4,
 "nbformat_minor": 2
}
