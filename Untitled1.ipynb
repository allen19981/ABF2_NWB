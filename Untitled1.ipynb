{
 "cells": [
  {
   "cell_type": "code",
   "execution_count": 1,
   "metadata": {},
   "outputs": [
    {
     "name": "stderr",
     "output_type": "stream",
     "text": [
      "WARNING:pyabf.abf:fileGUID isn't truly unique (fileUUID is)\n",
      "C:\\Users\\Allose\\Anaconda3\\lib\\site-packages\\pynwb\\file.py:752: UserWarning: Date is missing timezone information. Updating to local timezone.\n",
      "  warn(\"Date is missing timezone information. Updating to local timezone.\")\n",
      "C:\\Users\\Allose\\Anaconda3\\lib\\site-packages\\ipfx\\x_to_nwb\\ABFConverter.py:444: UserWarning: Could not find the scale factor for the stimset None, using 1.0 as fallback.\n",
      "  warnings.warn(f\"Could not find the scale factor for the stimset {stimset}, using 1.0 as fallback.\")\n",
      "C:\\Users\\Allose\\Anaconda3\\lib\\site-packages\\pynwb\\icephys.py:312: UserWarning: Unit 'V' for VoltageClampStimulusSeries 'index_0' is ignored and will be set to 'volts' as per NWB 2.1.0.\n",
      "  % (current_unit, self.__class__.__name__, name, unit, nwb_version))\n",
      "C:\\Users\\Allose\\Anaconda3\\lib\\site-packages\\pynwb\\icephys.py:312: UserWarning: Unit 'V' for VoltageClampStimulusSeries 'index_1' is ignored and will be set to 'volts' as per NWB 2.1.0.\n",
      "  % (current_unit, self.__class__.__name__, name, unit, nwb_version))\n",
      "C:\\Users\\Allose\\Anaconda3\\lib\\site-packages\\pynwb\\icephys.py:312: UserWarning: Unit 'V' for VoltageClampStimulusSeries 'index_2' is ignored and will be set to 'volts' as per NWB 2.1.0.\n",
      "  % (current_unit, self.__class__.__name__, name, unit, nwb_version))\n",
      "C:\\Users\\Allose\\Anaconda3\\lib\\site-packages\\pynwb\\icephys.py:312: UserWarning: Unit 'V' for VoltageClampStimulusSeries 'index_3' is ignored and will be set to 'volts' as per NWB 2.1.0.\n",
      "  % (current_unit, self.__class__.__name__, name, unit, nwb_version))\n",
      "C:\\Users\\Allose\\Anaconda3\\lib\\site-packages\\pynwb\\icephys.py:312: UserWarning: Unit 'V' for VoltageClampStimulusSeries 'index_4' is ignored and will be set to 'volts' as per NWB 2.1.0.\n",
      "  % (current_unit, self.__class__.__name__, name, unit, nwb_version))\n",
      "C:\\Users\\Allose\\Anaconda3\\lib\\site-packages\\pynwb\\icephys.py:312: UserWarning: Unit 'V' for VoltageClampStimulusSeries 'index_5' is ignored and will be set to 'volts' as per NWB 2.1.0.\n",
      "  % (current_unit, self.__class__.__name__, name, unit, nwb_version))\n",
      "C:\\Users\\Allose\\Anaconda3\\lib\\site-packages\\pynwb\\icephys.py:312: UserWarning: Unit 'V' for VoltageClampStimulusSeries 'index_6' is ignored and will be set to 'volts' as per NWB 2.1.0.\n",
      "  % (current_unit, self.__class__.__name__, name, unit, nwb_version))\n",
      "C:\\Users\\Allose\\Anaconda3\\lib\\site-packages\\pynwb\\icephys.py:312: UserWarning: Unit 'V' for VoltageClampStimulusSeries 'index_7' is ignored and will be set to 'volts' as per NWB 2.1.0.\n",
      "  % (current_unit, self.__class__.__name__, name, unit, nwb_version))\n",
      "C:\\Users\\Allose\\Anaconda3\\lib\\site-packages\\pynwb\\icephys.py:312: UserWarning: Unit 'V' for VoltageClampStimulusSeries 'index_8' is ignored and will be set to 'volts' as per NWB 2.1.0.\n",
      "  % (current_unit, self.__class__.__name__, name, unit, nwb_version))\n",
      "C:\\Users\\Allose\\Anaconda3\\lib\\site-packages\\pynwb\\icephys.py:312: UserWarning: Unit 'V' for VoltageClampStimulusSeries 'index_9' is ignored and will be set to 'volts' as per NWB 2.1.0.\n",
      "  % (current_unit, self.__class__.__name__, name, unit, nwb_version))\n",
      "C:\\Users\\Allose\\Anaconda3\\lib\\site-packages\\ipfx\\x_to_nwb\\ABFConverter.py:469: UserWarning: Could not find settings for amplifier unknown of channel IN 0.\n",
      "  warnings.warn(f\"Could not find settings for amplifier {amplifier} of channel {adcName}.\")\n",
      "C:\\Users\\Allose\\Anaconda3\\lib\\site-packages\\pynwb\\icephys.py:312: UserWarning: Unit 'A' for VoltageClampSeries 'index_0' is ignored and will be set to 'amperes' as per NWB 2.1.0.\n",
      "  % (current_unit, self.__class__.__name__, name, unit, nwb_version))\n",
      "C:\\Users\\Allose\\Anaconda3\\lib\\site-packages\\pynwb\\icephys.py:312: UserWarning: Unit 'A' for VoltageClampSeries 'index_1' is ignored and will be set to 'amperes' as per NWB 2.1.0.\n",
      "  % (current_unit, self.__class__.__name__, name, unit, nwb_version))\n",
      "C:\\Users\\Allose\\Anaconda3\\lib\\site-packages\\pynwb\\icephys.py:312: UserWarning: Unit 'A' for VoltageClampSeries 'index_2' is ignored and will be set to 'amperes' as per NWB 2.1.0.\n",
      "  % (current_unit, self.__class__.__name__, name, unit, nwb_version))\n",
      "C:\\Users\\Allose\\Anaconda3\\lib\\site-packages\\pynwb\\icephys.py:312: UserWarning: Unit 'A' for VoltageClampSeries 'index_3' is ignored and will be set to 'amperes' as per NWB 2.1.0.\n",
      "  % (current_unit, self.__class__.__name__, name, unit, nwb_version))\n",
      "C:\\Users\\Allose\\Anaconda3\\lib\\site-packages\\pynwb\\icephys.py:312: UserWarning: Unit 'A' for VoltageClampSeries 'index_4' is ignored and will be set to 'amperes' as per NWB 2.1.0.\n",
      "  % (current_unit, self.__class__.__name__, name, unit, nwb_version))\n",
      "C:\\Users\\Allose\\Anaconda3\\lib\\site-packages\\pynwb\\icephys.py:312: UserWarning: Unit 'A' for VoltageClampSeries 'index_5' is ignored and will be set to 'amperes' as per NWB 2.1.0.\n",
      "  % (current_unit, self.__class__.__name__, name, unit, nwb_version))\n",
      "C:\\Users\\Allose\\Anaconda3\\lib\\site-packages\\pynwb\\icephys.py:312: UserWarning: Unit 'A' for VoltageClampSeries 'index_6' is ignored and will be set to 'amperes' as per NWB 2.1.0.\n",
      "  % (current_unit, self.__class__.__name__, name, unit, nwb_version))\n",
      "C:\\Users\\Allose\\Anaconda3\\lib\\site-packages\\pynwb\\icephys.py:312: UserWarning: Unit 'A' for VoltageClampSeries 'index_7' is ignored and will be set to 'amperes' as per NWB 2.1.0.\n",
      "  % (current_unit, self.__class__.__name__, name, unit, nwb_version))\n",
      "C:\\Users\\Allose\\Anaconda3\\lib\\site-packages\\pynwb\\icephys.py:312: UserWarning: Unit 'A' for VoltageClampSeries 'index_8' is ignored and will be set to 'amperes' as per NWB 2.1.0.\n",
      "  % (current_unit, self.__class__.__name__, name, unit, nwb_version))\n",
      "C:\\Users\\Allose\\Anaconda3\\lib\\site-packages\\pynwb\\icephys.py:312: UserWarning: Unit 'A' for VoltageClampSeries 'index_9' is ignored and will be set to 'amperes' as per NWB 2.1.0.\n",
      "  % (current_unit, self.__class__.__name__, name, unit, nwb_version))\n"
     ]
    },
    {
     "data": {
      "text/plain": [
       "<ipfx.x_to_nwb.ABFConverter.ABFConverter at 0x21b7a05deb8>"
      ]
     },
     "execution_count": 1,
     "metadata": {},
     "output_type": "execute_result"
    }
   ],
   "source": [
    "from ipfx.x_to_nwb import ABFConverter\n",
    "ABFConverter.ABFConverter('ipfx_new/ipfx_new/bin/Watch/2020_07_31_0001.abf', 'output/2020_07_31_0001.nwb', 'outputFeedback/')"
   ]
  },
  {
   "cell_type": "code",
   "execution_count": null,
   "metadata": {},
   "outputs": [],
   "source": []
  }
 ],
 "metadata": {
  "kernelspec": {
   "display_name": "Python 3",
   "language": "python",
   "name": "python3"
  },
  "language_info": {
   "codemirror_mode": {
    "name": "ipython",
    "version": 3
   },
   "file_extension": ".py",
   "mimetype": "text/x-python",
   "name": "python",
   "nbconvert_exporter": "python",
   "pygments_lexer": "ipython3",
   "version": "3.7.1"
  }
 },
 "nbformat": 4,
 "nbformat_minor": 2
}
